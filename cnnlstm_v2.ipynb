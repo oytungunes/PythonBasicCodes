{
  "nbformat": 4,
  "nbformat_minor": 0,
  "metadata": {
    "colab": {
      "provenance": [],
      "collapsed_sections": [],
      "authorship_tag": "ABX9TyMizUDoOka6vRAnQxZOg9yh",
      "include_colab_link": true
    },
    "kernelspec": {
      "name": "python3",
      "display_name": "Python 3"
    },
    "language_info": {
      "name": "python"
    }
  },
  "cells": [
    {
      "cell_type": "markdown",
      "metadata": {
        "id": "view-in-github",
        "colab_type": "text"
      },
      "source": [
        "<a href=\"https://colab.research.google.com/github/oytungunes/PythonCodeExamples/blob/main/cnnlstm_v2.ipynb\" target=\"_parent\"><img src=\"https://colab.research.google.com/assets/colab-badge.svg\" alt=\"Open In Colab\"/></a>"
      ]
    },
    {
      "cell_type": "markdown",
      "source": [
        "\n",
        "\n"
      ],
      "metadata": {
        "id": "_xEJQ7XzCQB0"
      }
    },
    {
      "cell_type": "code",
      "execution_count": null,
      "metadata": {
        "colab": {
          "base_uri": "https://localhost:8080/"
        },
        "id": "ej9j4qGX-MJX",
        "outputId": "8fb5320a-01d3-4b5e-f154-30b8d608d100"
      },
      "outputs": [
        {
          "output_type": "stream",
          "name": "stdout",
          "text": [
            "Mounted at /content/drive\n"
          ]
        }
      ],
      "source": [
        "from google.colab import drive\n",
        "drive.mount('/content/drive')"
      ]
    },
    {
      "cell_type": "code",
      "source": [
        "import imblearn\n",
        "\n",
        "\n",
        "\n",
        "import keras\n",
        "from keras.utils import np_utils\n",
        "from sklearn.model_selection import KFold, StratifiedKFold\n",
        "\n",
        "from keras.layers import Dense, LSTM, Flatten, TimeDistributed, Conv2D, MaxPooling2D\n",
        "from keras.models import Sequential\n",
        "from keras.callbacks import EarlyStopping\n",
        "from keras.callbacks import ModelCheckpoint\n",
        "from keras.models import load_model\n",
        "#\n",
        "\n",
        "\n",
        "import scipy.io\n",
        "import numpy as np\n",
        "\n",
        "mat = scipy.io.loadmat('/content/drive/MyDrive/newwdata/normalizedspectrogramforpython5and9.mat')"
      ],
      "metadata": {
        "id": "GMxRfZBCBBpm"
      },
      "execution_count": null,
      "outputs": []
    },
    {
      "cell_type": "code",
      "source": [
        "#load data\n",
        "\n",
        "X = mat['normalizedspectrogram'] #2 x 1178 x 141 , numoffeatures x timelength x sample\n",
        "Y = mat['YTrain'] # numofsample x 1 0s and 1s\n",
        "X = X.reshape(X.shape[2],X.shape[1],X.shape[0])# 170 4225 13\n",
        "print(X.shape)# 116x150x153"
      ],
      "metadata": {
        "colab": {
          "base_uri": "https://localhost:8080/"
        },
        "id": "IeyJQ5HLgmko",
        "outputId": "5fdcf4cf-e411-4a09-96ec-16707766f728"
      },
      "execution_count": null,
      "outputs": [
        {
          "output_type": "stream",
          "name": "stdout",
          "text": [
            "(116, 150, 153)\n"
          ]
        }
      ]
    },
    {
      "cell_type": "code",
      "source": [
        "#%%\n",
        "from sklearn.model_selection import train_test_split\n",
        "X_train, X_test, y_train, y_test = train_test_split( X, Y, test_size=0.11, random_state=1)\n",
        "X_train, X_val, y_train, y_val = train_test_split( X_train, y_train, test_size=0.1, random_state=1)\n",
        "\n"
      ],
      "metadata": {
        "id": "JnjT5rp4gz3w"
      },
      "execution_count": null,
      "outputs": []
    },
    {
      "cell_type": "code",
      "source": [
        "#%%\n",
        "from keras.models import Sequential\n",
        "from keras.layers import Conv1D\n",
        "from keras.layers import MaxPooling1D\n",
        "from keras.layers import LSTM\n",
        "from keras.layers import Dense\n",
        "from keras.layers import Flatten\n",
        "from keras.layers import TimeDistributed\n",
        "from keras.callbacks import ModelCheckpoint, EarlyStopping\n",
        "from keras.layers import Dense, LSTM, Flatten, TimeDistributed, Conv2D, MaxPooling2D\n",
        "from keras.models import load_model\n",
        "\n",
        "\n",
        "\n",
        "model = Sequential()\n",
        "\n",
        "model.add(Conv1D(filters=4, kernel_size=5, padding='same', activation='relu',input_shape=(150,153)))\n",
        "model.add(MaxPooling1D(pool_size=4))\n",
        "model.add(Conv1D(filters=4, kernel_size=5, padding='same', activation='relu',input_shape=(150,153)))\n",
        "model.add(LSTM(32))\n",
        "model.add(Dense(1, activation='sigmoid'))\n",
        "model.compile(loss= 'binary_crossentropy' , optimizer= 'adam' , metrics=[ 'acc' ])\n",
        "\n",
        "model.summary()"
      ],
      "metadata": {
        "id": "wFvEIlTfhnAf",
        "colab": {
          "base_uri": "https://localhost:8080/"
        },
        "outputId": "b442468d-bed0-46a7-fbce-d56a937edf4a"
      },
      "execution_count": null,
      "outputs": [
        {
          "output_type": "stream",
          "name": "stdout",
          "text": [
            "Model: \"sequential\"\n",
            "_________________________________________________________________\n",
            " Layer (type)                Output Shape              Param #   \n",
            "=================================================================\n",
            " conv1d (Conv1D)             (None, 150, 4)            3064      \n",
            "                                                                 \n",
            " max_pooling1d (MaxPooling1D  (None, 37, 4)            0         \n",
            " )                                                               \n",
            "                                                                 \n",
            " conv1d_1 (Conv1D)           (None, 37, 4)             84        \n",
            "                                                                 \n",
            " lstm (LSTM)                 (None, 32)                4736      \n",
            "                                                                 \n",
            " dense (Dense)               (None, 1)                 33        \n",
            "                                                                 \n",
            "=================================================================\n",
            "Total params: 7,917\n",
            "Trainable params: 7,917\n",
            "Non-trainable params: 0\n",
            "_________________________________________________________________\n"
          ]
        }
      ]
    },
    {
      "cell_type": "code",
      "source": [
        "\n",
        "\n",
        "\n",
        "\n",
        "\n",
        "#numberOfHiddenUnits =15 # calisan 8\n",
        "#model = Sequential()\n",
        "#model.add(LSTM(numberOfHiddenUnits))\n",
        "#model.add(Dense(2, activation='sigmoid'))\n",
        "#optimizer = keras.optimizers.Adam(lr=0.01)\n",
        "#model.compile(loss=\"categorical_crosse#ntropy\", optimizer=optimizer, metrics=['acc'])\n",
        "#model.compile(loss=\"binary_crossentropy\", optimizer='Adam', metrics=['acc'])\n",
        "\n",
        "\n",
        "\n",
        "\n",
        "mycallbacks = [\n",
        "    keras.callbacks.EarlyStopping(monitor=\"val_loss\", patience=50,verbose=1),\n",
        "    \n",
        "      keras.callbacks.ModelCheckpoint(\n",
        "        \"best_model.h5\", save_best_only=True, monitor=\"val_loss\"\n",
        "    ),\n",
        "]\n",
        "\n",
        "history= model.fit(X_train, y_train,validation_data=(X_val, y_val),batch_size=32,epochs=100,callbacks =[mycallbacks],verbose=1)\n",
        "\n",
        "\n",
        "\n",
        "#%%\n",
        "\n",
        "import matplotlib.pyplot as plt\n",
        "\n",
        "myacc = history.history['acc']\n",
        "trainingaccuracy= myacc[-1]\n",
        "accuracy = [x * 100 for x in myacc]\n",
        "\n",
        "plt.figure(2)\n",
        "plt.plot(accuracy)\n",
        "plt.title('Training Accuracy vs Epoch ')\n",
        "plt.ylabel('Accuracy value (%)')\n",
        "plt.xlabel('No. epoch')\n",
        "plt.show()\n",
        "\n",
        "\n",
        "\n",
        "# \"Loss\"\n",
        "plt.plot(history.history['loss'])\n",
        "plt.plot(history.history['val_loss'])\n",
        "plt.title('model loss')\n",
        "plt.ylabel('loss')\n",
        "plt.xlabel('epoch')\n",
        "plt.legend(['train', 'validation'], loc='upper right')\n",
        "plt.show()"
      ],
      "metadata": {
        "colab": {
          "base_uri": "https://localhost:8080/",
          "height": 1000
        },
        "id": "29F_weTHBG-G",
        "outputId": "9f081046-44a6-45c7-cb5c-adeaec9081e5"
      },
      "execution_count": null,
      "outputs": [
        {
          "output_type": "stream",
          "name": "stdout",
          "text": [
            "Epoch 1/100\n",
            "3/3 [==============================] - 4s 361ms/step - loss: 0.6926 - acc: 0.5543 - val_loss: 0.6896 - val_acc: 0.5455\n",
            "Epoch 2/100\n",
            "3/3 [==============================] - 0s 56ms/step - loss: 0.6881 - acc: 0.5109 - val_loss: 0.6902 - val_acc: 0.5455\n",
            "Epoch 3/100\n",
            "3/3 [==============================] - 0s 55ms/step - loss: 0.6872 - acc: 0.5109 - val_loss: 0.6908 - val_acc: 0.5455\n",
            "Epoch 4/100\n",
            "3/3 [==============================] - 0s 56ms/step - loss: 0.6860 - acc: 0.5109 - val_loss: 0.6912 - val_acc: 0.6364\n",
            "Epoch 5/100\n",
            "3/3 [==============================] - 0s 55ms/step - loss: 0.6845 - acc: 0.5870 - val_loss: 0.6907 - val_acc: 0.5455\n",
            "Epoch 6/100\n",
            "3/3 [==============================] - 0s 52ms/step - loss: 0.6825 - acc: 0.5870 - val_loss: 0.6909 - val_acc: 0.5455\n",
            "Epoch 7/100\n",
            "3/3 [==============================] - 0s 52ms/step - loss: 0.6796 - acc: 0.5761 - val_loss: 0.6898 - val_acc: 0.5455\n",
            "Epoch 8/100\n",
            "3/3 [==============================] - 0s 67ms/step - loss: 0.6777 - acc: 0.5870 - val_loss: 0.6885 - val_acc: 0.5455\n",
            "Epoch 9/100\n",
            "3/3 [==============================] - 0s 62ms/step - loss: 0.6742 - acc: 0.5870 - val_loss: 0.6868 - val_acc: 0.5455\n",
            "Epoch 10/100\n",
            "3/3 [==============================] - 0s 63ms/step - loss: 0.6719 - acc: 0.6087 - val_loss: 0.6841 - val_acc: 0.5455\n",
            "Epoch 11/100\n",
            "3/3 [==============================] - 0s 64ms/step - loss: 0.6667 - acc: 0.6087 - val_loss: 0.6822 - val_acc: 0.5455\n",
            "Epoch 12/100\n",
            "3/3 [==============================] - 0s 64ms/step - loss: 0.6677 - acc: 0.6196 - val_loss: 0.6808 - val_acc: 0.6364\n",
            "Epoch 13/100\n",
            "3/3 [==============================] - 0s 70ms/step - loss: 0.6577 - acc: 0.6196 - val_loss: 0.6766 - val_acc: 0.6364\n",
            "Epoch 14/100\n",
            "3/3 [==============================] - 0s 70ms/step - loss: 0.6518 - acc: 0.6196 - val_loss: 0.6697 - val_acc: 0.6364\n",
            "Epoch 15/100\n",
            "3/3 [==============================] - 0s 67ms/step - loss: 0.6440 - acc: 0.6304 - val_loss: 0.6567 - val_acc: 0.5455\n",
            "Epoch 16/100\n",
            "3/3 [==============================] - 0s 65ms/step - loss: 0.6381 - acc: 0.6413 - val_loss: 0.6424 - val_acc: 0.6364\n",
            "Epoch 17/100\n",
            "3/3 [==============================] - 0s 64ms/step - loss: 0.6235 - acc: 0.6304 - val_loss: 0.6396 - val_acc: 0.7273\n",
            "Epoch 18/100\n",
            "3/3 [==============================] - 0s 64ms/step - loss: 0.6165 - acc: 0.5978 - val_loss: 0.5995 - val_acc: 0.8182\n",
            "Epoch 19/100\n",
            "3/3 [==============================] - 0s 71ms/step - loss: 0.5940 - acc: 0.6522 - val_loss: 0.5512 - val_acc: 0.8182\n",
            "Epoch 20/100\n",
            "3/3 [==============================] - 0s 69ms/step - loss: 0.5682 - acc: 0.6739 - val_loss: 0.4966 - val_acc: 0.9091\n",
            "Epoch 21/100\n",
            "3/3 [==============================] - 0s 64ms/step - loss: 0.5295 - acc: 0.7391 - val_loss: 0.4338 - val_acc: 0.9091\n",
            "Epoch 22/100\n",
            "3/3 [==============================] - 0s 62ms/step - loss: 0.5001 - acc: 0.7717 - val_loss: 0.3644 - val_acc: 0.9091\n",
            "Epoch 23/100\n",
            "3/3 [==============================] - 0s 50ms/step - loss: 0.4702 - acc: 0.7609 - val_loss: 0.4849 - val_acc: 0.7273\n",
            "Epoch 24/100\n",
            "3/3 [==============================] - 0s 52ms/step - loss: 0.4858 - acc: 0.7609 - val_loss: 0.4315 - val_acc: 0.8182\n",
            "Epoch 25/100\n",
            "3/3 [==============================] - 0s 68ms/step - loss: 0.4335 - acc: 0.7935 - val_loss: 0.2810 - val_acc: 0.9091\n",
            "Epoch 26/100\n",
            "3/3 [==============================] - 0s 52ms/step - loss: 0.4481 - acc: 0.7717 - val_loss: 0.5113 - val_acc: 0.7273\n",
            "Epoch 27/100\n",
            "3/3 [==============================] - 0s 53ms/step - loss: 0.4426 - acc: 0.7935 - val_loss: 0.2918 - val_acc: 0.9091\n",
            "Epoch 28/100\n",
            "3/3 [==============================] - 0s 51ms/step - loss: 0.4746 - acc: 0.7717 - val_loss: 0.4505 - val_acc: 0.7273\n",
            "Epoch 29/100\n",
            "3/3 [==============================] - 0s 51ms/step - loss: 0.4949 - acc: 0.7391 - val_loss: 0.5560 - val_acc: 0.6364\n",
            "Epoch 30/100\n",
            "3/3 [==============================] - 0s 54ms/step - loss: 0.4744 - acc: 0.7609 - val_loss: 0.3729 - val_acc: 0.9091\n",
            "Epoch 31/100\n",
            "3/3 [==============================] - 0s 61ms/step - loss: 0.4223 - acc: 0.8043 - val_loss: 0.2906 - val_acc: 0.9091\n",
            "Epoch 32/100\n",
            "3/3 [==============================] - 0s 52ms/step - loss: 0.4686 - acc: 0.8043 - val_loss: 0.2968 - val_acc: 0.9091\n",
            "Epoch 33/100\n",
            "3/3 [==============================] - 0s 55ms/step - loss: 0.4316 - acc: 0.8043 - val_loss: 0.4143 - val_acc: 0.8182\n",
            "Epoch 34/100\n",
            "3/3 [==============================] - 0s 54ms/step - loss: 0.4547 - acc: 0.7717 - val_loss: 0.4110 - val_acc: 0.8182\n",
            "Epoch 35/100\n",
            "3/3 [==============================] - 0s 55ms/step - loss: 0.4459 - acc: 0.7717 - val_loss: 0.3355 - val_acc: 0.9091\n",
            "Epoch 36/100\n",
            "3/3 [==============================] - 0s 58ms/step - loss: 0.4260 - acc: 0.7935 - val_loss: 0.2909 - val_acc: 0.9091\n",
            "Epoch 37/100\n",
            "3/3 [==============================] - 0s 54ms/step - loss: 0.4053 - acc: 0.8261 - val_loss: 0.2898 - val_acc: 0.9091\n",
            "Epoch 38/100\n",
            "3/3 [==============================] - 0s 53ms/step - loss: 0.4145 - acc: 0.8370 - val_loss: 0.2845 - val_acc: 0.9091\n",
            "Epoch 39/100\n",
            "3/3 [==============================] - 0s 57ms/step - loss: 0.4194 - acc: 0.7935 - val_loss: 0.4564 - val_acc: 0.7273\n",
            "Epoch 40/100\n",
            "3/3 [==============================] - 0s 53ms/step - loss: 0.4860 - acc: 0.7500 - val_loss: 0.5283 - val_acc: 0.7273\n",
            "Epoch 41/100\n",
            "3/3 [==============================] - 0s 54ms/step - loss: 0.4785 - acc: 0.7500 - val_loss: 0.4152 - val_acc: 0.8182\n",
            "Epoch 42/100\n",
            "3/3 [==============================] - 0s 63ms/step - loss: 0.4264 - acc: 0.7935 - val_loss: 0.2789 - val_acc: 0.9091\n",
            "Epoch 43/100\n",
            "3/3 [==============================] - 0s 58ms/step - loss: 0.3915 - acc: 0.8261 - val_loss: 0.2946 - val_acc: 0.9091\n",
            "Epoch 44/100\n",
            "3/3 [==============================] - 0s 59ms/step - loss: 0.4729 - acc: 0.7935 - val_loss: 0.4440 - val_acc: 0.7273\n",
            "Epoch 45/100\n",
            "3/3 [==============================] - 0s 56ms/step - loss: 0.5073 - acc: 0.7174 - val_loss: 0.6543 - val_acc: 0.5455\n",
            "Epoch 46/100\n",
            "3/3 [==============================] - 0s 54ms/step - loss: 0.5716 - acc: 0.6739 - val_loss: 0.6301 - val_acc: 0.6364\n",
            "Epoch 47/100\n",
            "3/3 [==============================] - 0s 51ms/step - loss: 0.5247 - acc: 0.6957 - val_loss: 0.4692 - val_acc: 0.7273\n",
            "Epoch 48/100\n",
            "3/3 [==============================] - 0s 51ms/step - loss: 0.4494 - acc: 0.7826 - val_loss: 0.2869 - val_acc: 0.9091\n",
            "Epoch 49/100\n",
            "3/3 [==============================] - 0s 57ms/step - loss: 0.4005 - acc: 0.8261 - val_loss: 0.3594 - val_acc: 0.8182\n",
            "Epoch 50/100\n",
            "3/3 [==============================] - 0s 53ms/step - loss: 0.4271 - acc: 0.8043 - val_loss: 0.2850 - val_acc: 0.9091\n",
            "Epoch 51/100\n",
            "3/3 [==============================] - 0s 56ms/step - loss: 0.4088 - acc: 0.8261 - val_loss: 0.3761 - val_acc: 0.9091\n",
            "Epoch 52/100\n",
            "3/3 [==============================] - 0s 53ms/step - loss: 0.4422 - acc: 0.7826 - val_loss: 0.4233 - val_acc: 0.7273\n",
            "Epoch 53/100\n",
            "3/3 [==============================] - 0s 52ms/step - loss: 0.4459 - acc: 0.7717 - val_loss: 0.4101 - val_acc: 0.8182\n",
            "Epoch 54/100\n",
            "3/3 [==============================] - 0s 53ms/step - loss: 0.4375 - acc: 0.7935 - val_loss: 0.3223 - val_acc: 0.9091\n",
            "Epoch 55/100\n",
            "3/3 [==============================] - 0s 64ms/step - loss: 0.4115 - acc: 0.8152 - val_loss: 0.2759 - val_acc: 0.9091\n",
            "Epoch 56/100\n",
            "3/3 [==============================] - 0s 66ms/step - loss: 0.3780 - acc: 0.8370 - val_loss: 0.2756 - val_acc: 0.9091\n",
            "Epoch 57/100\n",
            "3/3 [==============================] - 0s 53ms/step - loss: 0.3719 - acc: 0.8478 - val_loss: 0.2773 - val_acc: 0.9091\n",
            "Epoch 58/100\n",
            "3/3 [==============================] - 0s 52ms/step - loss: 0.3796 - acc: 0.8478 - val_loss: 0.2807 - val_acc: 0.9091\n",
            "Epoch 59/100\n",
            "3/3 [==============================] - 0s 65ms/step - loss: 0.3767 - acc: 0.8478 - val_loss: 0.2713 - val_acc: 0.9091\n",
            "Epoch 60/100\n",
            "3/3 [==============================] - 0s 63ms/step - loss: 0.3659 - acc: 0.8478 - val_loss: 0.2639 - val_acc: 0.9091\n",
            "Epoch 61/100\n",
            "3/3 [==============================] - 0s 65ms/step - loss: 0.3655 - acc: 0.8370 - val_loss: 0.2588 - val_acc: 0.9091\n",
            "Epoch 62/100\n",
            "3/3 [==============================] - 0s 66ms/step - loss: 0.3668 - acc: 0.8370 - val_loss: 0.2555 - val_acc: 0.9091\n",
            "Epoch 63/100\n",
            "3/3 [==============================] - 0s 68ms/step - loss: 0.3657 - acc: 0.8370 - val_loss: 0.2542 - val_acc: 0.9091\n",
            "Epoch 64/100\n",
            "3/3 [==============================] - 0s 65ms/step - loss: 0.3635 - acc: 0.8370 - val_loss: 0.2533 - val_acc: 0.9091\n",
            "Epoch 65/100\n",
            "3/3 [==============================] - 0s 57ms/step - loss: 0.3617 - acc: 0.8370 - val_loss: 0.2540 - val_acc: 0.9091\n",
            "Epoch 66/100\n",
            "3/3 [==============================] - 0s 52ms/step - loss: 0.3591 - acc: 0.8370 - val_loss: 0.2550 - val_acc: 0.9091\n",
            "Epoch 67/100\n",
            "3/3 [==============================] - 0s 56ms/step - loss: 0.3621 - acc: 0.8478 - val_loss: 0.2586 - val_acc: 0.9091\n",
            "Epoch 68/100\n",
            "3/3 [==============================] - 0s 53ms/step - loss: 0.3589 - acc: 0.8478 - val_loss: 0.2555 - val_acc: 0.9091\n",
            "Epoch 69/100\n",
            "3/3 [==============================] - 0s 61ms/step - loss: 0.3544 - acc: 0.8478 - val_loss: 0.2553 - val_acc: 0.9091\n",
            "Epoch 70/100\n",
            "3/3 [==============================] - 0s 53ms/step - loss: 0.3537 - acc: 0.8478 - val_loss: 0.2535 - val_acc: 0.9091\n",
            "Epoch 71/100\n",
            "3/3 [==============================] - 0s 64ms/step - loss: 0.3505 - acc: 0.8478 - val_loss: 0.2531 - val_acc: 0.9091\n",
            "Epoch 72/100\n",
            "3/3 [==============================] - 0s 64ms/step - loss: 0.3489 - acc: 0.8478 - val_loss: 0.2529 - val_acc: 0.9091\n",
            "Epoch 73/100\n",
            "3/3 [==============================] - 0s 52ms/step - loss: 0.3484 - acc: 0.8478 - val_loss: 0.2531 - val_acc: 0.9091\n",
            "Epoch 74/100\n",
            "3/3 [==============================] - 0s 66ms/step - loss: 0.3460 - acc: 0.8478 - val_loss: 0.2516 - val_acc: 0.9091\n",
            "Epoch 75/100\n",
            "3/3 [==============================] - 0s 73ms/step - loss: 0.3445 - acc: 0.8478 - val_loss: 0.2499 - val_acc: 0.9091\n",
            "Epoch 76/100\n",
            "3/3 [==============================] - 0s 74ms/step - loss: 0.3429 - acc: 0.8478 - val_loss: 0.2490 - val_acc: 0.9091\n",
            "Epoch 77/100\n",
            "3/3 [==============================] - 0s 63ms/step - loss: 0.3406 - acc: 0.8478 - val_loss: 0.2477 - val_acc: 0.9091\n",
            "Epoch 78/100\n",
            "3/3 [==============================] - 0s 65ms/step - loss: 0.3385 - acc: 0.8478 - val_loss: 0.2458 - val_acc: 0.9091\n",
            "Epoch 79/100\n",
            "3/3 [==============================] - 0s 68ms/step - loss: 0.3367 - acc: 0.8478 - val_loss: 0.2438 - val_acc: 0.9091\n",
            "Epoch 80/100\n",
            "3/3 [==============================] - 0s 65ms/step - loss: 0.3339 - acc: 0.8478 - val_loss: 0.2419 - val_acc: 0.9091\n",
            "Epoch 81/100\n",
            "3/3 [==============================] - 0s 69ms/step - loss: 0.3302 - acc: 0.8587 - val_loss: 0.2402 - val_acc: 0.9091\n",
            "Epoch 82/100\n",
            "3/3 [==============================] - 0s 68ms/step - loss: 0.3247 - acc: 0.8587 - val_loss: 0.2384 - val_acc: 0.9091\n",
            "Epoch 83/100\n",
            "3/3 [==============================] - 0s 55ms/step - loss: 0.3177 - acc: 0.8587 - val_loss: 0.2385 - val_acc: 0.9091\n",
            "Epoch 84/100\n",
            "3/3 [==============================] - 0s 66ms/step - loss: 0.3196 - acc: 0.8587 - val_loss: 0.2319 - val_acc: 0.9091\n",
            "Epoch 85/100\n",
            "3/3 [==============================] - 0s 70ms/step - loss: 0.3258 - acc: 0.8478 - val_loss: 0.2313 - val_acc: 0.9091\n",
            "Epoch 86/100\n",
            "3/3 [==============================] - 0s 61ms/step - loss: 0.3099 - acc: 0.8478 - val_loss: 0.2385 - val_acc: 0.9091\n",
            "Epoch 87/100\n",
            "3/3 [==============================] - 0s 51ms/step - loss: 0.2824 - acc: 0.8913 - val_loss: 0.3065 - val_acc: 0.8182\n",
            "Epoch 88/100\n",
            "3/3 [==============================] - 0s 53ms/step - loss: 0.4562 - acc: 0.7826 - val_loss: 1.2254 - val_acc: 0.4545\n",
            "Epoch 89/100\n",
            "3/3 [==============================] - 0s 53ms/step - loss: 0.9334 - acc: 0.5109 - val_loss: 0.7974 - val_acc: 0.4545\n",
            "Epoch 90/100\n",
            "3/3 [==============================] - 0s 54ms/step - loss: 0.7457 - acc: 0.4891 - val_loss: 0.7044 - val_acc: 0.4545\n",
            "Epoch 91/100\n",
            "3/3 [==============================] - 0s 55ms/step - loss: 0.6985 - acc: 0.4457 - val_loss: 0.6932 - val_acc: 0.5455\n",
            "Epoch 92/100\n",
            "3/3 [==============================] - 0s 54ms/step - loss: 0.6919 - acc: 0.5000 - val_loss: 0.6913 - val_acc: 0.5455\n",
            "Epoch 93/100\n",
            "3/3 [==============================] - 0s 59ms/step - loss: 0.6923 - acc: 0.5109 - val_loss: 0.6911 - val_acc: 0.5455\n",
            "Epoch 94/100\n",
            "3/3 [==============================] - 0s 52ms/step - loss: 0.6929 - acc: 0.5109 - val_loss: 0.6913 - val_acc: 0.5455\n",
            "Epoch 95/100\n",
            "3/3 [==============================] - 0s 56ms/step - loss: 0.6926 - acc: 0.5109 - val_loss: 0.6919 - val_acc: 0.5455\n",
            "Epoch 96/100\n",
            "3/3 [==============================] - 0s 56ms/step - loss: 0.6925 - acc: 0.5109 - val_loss: 0.6925 - val_acc: 0.5455\n",
            "Epoch 97/100\n",
            "3/3 [==============================] - 0s 59ms/step - loss: 0.6924 - acc: 0.5109 - val_loss: 0.6932 - val_acc: 0.5455\n",
            "Epoch 98/100\n",
            "3/3 [==============================] - 0s 54ms/step - loss: 0.6928 - acc: 0.5000 - val_loss: 0.6939 - val_acc: 0.5455\n",
            "Epoch 99/100\n",
            "3/3 [==============================] - 0s 59ms/step - loss: 0.6927 - acc: 0.4565 - val_loss: 0.6944 - val_acc: 0.3636\n",
            "Epoch 100/100\n",
            "3/3 [==============================] - 0s 55ms/step - loss: 0.6924 - acc: 0.4457 - val_loss: 0.6943 - val_acc: 0.4545\n"
          ]
        },
        {
          "output_type": "display_data",
          "data": {
            "text/plain": [
              "<Figure size 432x288 with 1 Axes>"
            ],
            "image/png": "[encoded data removed]"
          },
          "metadata": {
            "needs_background": "light"
          }
        },
        {
          "output_type": "display_data",
          "data": {
            "text/plain": [
              "<Figure size 432x288 with 1 Axes>"
            ],
            "image/png": "[encoded data removed]"
          },
          "metadata": {
            "needs_background": "light"
          }
        }
      ]
    },
    {
      "cell_type": "code",
      "source": [
        "\n",
        "model= keras.models.load_model('best_model.h5')\n",
        "\n",
        "trainloss, train_acc = model.evaluate(X_train, y_train)\n",
        "valloss, val_acc = model.evaluate(X_val, y_val)\n",
        "\n",
        "testloss,test_acc = model.evaluate(X_test,y_test)\n",
        "\n",
        "print(\"Train Accuracy\",train_acc)\n",
        "print(\"Val Accuracy\",val_acc)\n",
        "print(\"Test Accuracy\",test_acc)\n"
      ],
      "metadata": {
        "colab": {
          "base_uri": "https://localhost:8080/"
        },
        "id": "VqJsqm0OB-bt",
        "outputId": "12946ab3-7bed-4158-8c63-360cf65bc340"
      },
      "execution_count": null,
      "outputs": [
        {
          "output_type": "stream",
          "name": "stdout",
          "text": [
            "3/3 [==============================] - 1s 20ms/step - loss: 0.3199 - acc: 0.8370\n",
            "1/1 [==============================] - 0s 33ms/step - loss: 0.2313 - acc: 0.9091\n",
            "1/1 [==============================] - 0s 38ms/step - loss: 0.4482 - acc: 0.7692\n",
            "Train Accuracy 0.8369565010070801\n",
            "Val Accuracy 0.9090909361839294\n",
            "Test Accuracy 0.7692307829856873\n"
          ]
        }
      ]
    }
  ]
}