{
  "nbformat": 4,
  "nbformat_minor": 0,
  "metadata": {
    "colab": {
      "name": "concatenate strings",
      "provenance": [],
      "authorship_tag": "ABX9TyPDtIu85naruo/Zfp50e18o",
      "include_colab_link": true
    },
    "kernelspec": {
      "name": "python3",
      "display_name": "Python 3"
    },
    "language_info": {
      "name": "python"
    }
  },
  "cells": [
    {
      "cell_type": "markdown",
      "metadata": {
        "id": "view-in-github",
        "colab_type": "text"
      },
      "source": [
        "<a href=\"https://colab.research.google.com/github/oytungunes/PythonBasicCodes/blob/main/concatenate_strings.ipynb\" target=\"_parent\"><img src=\"https://colab.research.google.com/assets/colab-badge.svg\" alt=\"Open In Colab\"/></a>"
      ]
    },
    {
      "cell_type": "markdown",
      "metadata": {
        "id": "GP1V8moZFsfl"
      },
      "source": [
        "You are given the firstname and lastname of a person on two different lines. Your task is to read them and print the following:\n",
        "\n",
        "Hello firstname lastname! You just delved into python."
      ]
    },
    {
      "cell_type": "code",
      "metadata": {
        "colab": {
          "base_uri": "https://localhost:8080/"
        },
        "id": "io08y-sUFtgx",
        "outputId": "a28b1f31-530d-4835-fba2-c786b1c8bd83"
      },
      "source": [
        "\n",
        "first = \"Oytun\"\n",
        "last = \"Gunes\"\n",
        "\n",
        "def print_full_name(first, last):\n",
        "    # Write your code here\n",
        "    surname = last+\"!\"\n",
        "    print (\"Hello\",first,surname,\"You just delved into python.\")\n",
        "\n",
        "print_full_name(first, last)"
      ],
      "execution_count": 4,
      "outputs": [
        {
          "output_type": "stream",
          "name": "stdout",
          "text": [
            "Hello Oytun Gunes! You just delved into python.\n"
          ]
        }
      ]
    },
    {
      "cell_type": "markdown",
      "metadata": {
        "id": "RAL0hqKUFr6_"
      },
      "source": [
        ""
      ]
    }
  ]
}