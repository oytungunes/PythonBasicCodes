{
  "nbformat": 4,
  "nbformat_minor": 0,
  "metadata": {
    "colab": {
      "name": "scikitlearn.ipynb",
      "provenance": [],
      "authorship_tag": "ABX9TyPDq/8N+BaQykI/sLEsW8J6",
      "include_colab_link": true
    },
    "kernelspec": {
      "name": "python3",
      "display_name": "Python 3"
    },
    "language_info": {
      "name": "python"
    }
  },
  "cells": [
    {
      "cell_type": "markdown",
      "metadata": {
        "id": "view-in-github",
        "colab_type": "text"
      },
      "source": [
        "<a href=\"https://colab.research.google.com/github/oytungunes/PythonCodeExamples/blob/main/scikitlearn.ipynb\" target=\"_parent\"><img src=\"https://colab.research.google.com/assets/colab-badge.svg\" alt=\"Open In Colab\"/></a>"
      ]
    },
    {
      "cell_type": "markdown",
      "metadata": {
        "id": "CKWzPLRQfP2k"
      },
      "source": [
        "## Load Dataset\n",
        "\n",
        "Scikit-learn deals with learning information from one or more datasets that are represented as 2D arrays. They can be understood as a list of multi-dimensional observations. We say that the first axis of these arrays is the samples axis, while the second is the features axis."
      ]
    },
    {
      "cell_type": "code",
      "metadata": {
        "colab": {
          "base_uri": "https://localhost:8080/"
        },
        "id": "iIBqU3BOfuI_",
        "outputId": "95474051-2e65-4562-dab7-060f322c6ee5"
      },
      "source": [
        "from sklearn import datasets\n",
        "iris = datasets.load_iris()\n",
        "data = iris.data\n",
        "data.shape"
      ],
      "execution_count": 1,
      "outputs": [
        {
          "output_type": "execute_result",
          "data": {
            "text/plain": [
              "(150, 4)"
            ]
          },
          "metadata": {},
          "execution_count": 1
        }
      ]
    },
    {
      "cell_type": "markdown",
      "metadata": {
        "id": "f8crzDDCf3ZL"
      },
      "source": [
        "## Learning and Predicting\n",
        "\n",
        "In the case of the digits dataset, the task is to predict, given an image, which digit it represents. We are given samples of each of the 10 possible classes (the digits zero through nine) on which we fit an estimator to be able to predict the classes to which unseen samples belong.\n",
        "\n",
        "In scikit-learn, an estimator for classification is a Python object that implements the methods fit(X, y) and predict(T).\n",
        "\n",
        "An example of an estimator is the class sklearn.svm.SVC, which implements support vector classification. The estimator’s constructor takes as arguments the model’s parameters.\n",
        "\n",
        "For now, we will consider the estimator as a black box\n",
        "\n"
      ]
    },
    {
      "cell_type": "code",
      "metadata": {
        "colab": {
          "base_uri": "https://localhost:8080/"
        },
        "id": "0OTA_7VUgXqK",
        "outputId": "ec170516-e701-4e38-89a4-e18917eac5cf"
      },
      "source": [
        "from sklearn import datasets\n",
        "from sklearn.svm import SVC\n",
        "iris = datasets.load_iris()\n",
        "clf = SVC()\n",
        "clf.fit(iris.data, iris.target)\n",
        "list(clf.predict(iris.data[:3]))\n",
        "clf.fit(iris.data, iris.target_names[iris.target])\n",
        "list(clf.predict(iris.data[:3]))"
      ],
      "execution_count": 5,
      "outputs": [
        {
          "output_type": "execute_result",
          "data": {
            "text/plain": [
              "['setosa', 'setosa', 'setosa']"
            ]
          },
          "metadata": {},
          "execution_count": 5
        }
      ]
    },
    {
      "cell_type": "markdown",
      "metadata": {
        "id": "U2xmXWpQh5fn"
      },
      "source": [
        "Stratified k fold:\n",
        "\n",
        "Stratified K-Folds cross-validator.\n",
        "\n",
        "Provides train/test indices to split data in train/test sets.\n",
        "\n",
        "This cross-validation object is a variation of KFold that returns stratified folds. The folds are made by preserving the percentage of samples for each class.\n",
        "\n"
      ]
    },
    {
      "cell_type": "code",
      "metadata": {
        "colab": {
          "base_uri": "https://localhost:8080/"
        },
        "id": "W0Ez-LFFh7y_",
        "outputId": "b40ad036-3920-4bab-e776-ebd2db70fcad"
      },
      "source": [
        "import numpy as np\n",
        "from sklearn.model_selection import StratifiedKFold\n",
        "X = np.array([[1, 2], [3, 4], [1, 2], [3, 4]])\n",
        "y = np.array([0, 0, 1, 1])\n",
        "skf = StratifiedKFold(n_splits=2)\n",
        "skf.get_n_splits(X, y)\n",
        "\n",
        "print(skf)\n",
        "\n",
        "for train_index, test_index in skf.split(X, y):\n",
        "    print(\"TRAIN:\", train_index, \"TEST:\", test_index)\n",
        "    X_train, X_test = X[train_index], X[test_index]\n",
        "    y_train, y_test = y[train_index], y[test_index]"
      ],
      "execution_count": 8,
      "outputs": [
        {
          "output_type": "stream",
          "name": "stdout",
          "text": [
            "StratifiedKFold(n_splits=2, random_state=None, shuffle=False)\n",
            "TRAIN: [1 3] TEST: [0 2]\n",
            "TRAIN: [0 2] TEST: [1 3]\n"
          ]
        }
      ]
    }
  ]
}