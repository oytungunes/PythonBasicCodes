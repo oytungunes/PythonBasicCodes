{
  "nbformat": 4,
  "nbformat_minor": 0,
  "metadata": {
    "colab": {
      "name": "pythonifelse",
      "provenance": [],
      "authorship_tag": "ABX9TyOLLEgxYdnXFa8yYw+ssGNc",
      "include_colab_link": true
    },
    "kernelspec": {
      "name": "python3",
      "display_name": "Python 3"
    },
    "language_info": {
      "name": "python"
    }
  },
  "cells": [
    {
      "cell_type": "markdown",
      "metadata": {
        "id": "view-in-github",
        "colab_type": "text"
      },
      "source": [
        "<a href=\"https://colab.research.google.com/github/oytungunes/PythonBasicCodes/blob/main/pythonifelse.ipynb\" target=\"_parent\"><img src=\"https://colab.research.google.com/assets/colab-badge.svg\" alt=\"Open In Colab\"/></a>"
      ]
    },
    {
      "cell_type": "markdown",
      "metadata": {
        "id": "1ODpJ5BOIEft"
      },
      "source": [
        ""
      ]
    },
    {
      "cell_type": "markdown",
      "metadata": {
        "id": "g039DvV1EvaJ"
      },
      "source": [
        "Hackerrank if else challenge\n",
        "\n",
        "\n",
        "Given an integer,n , perform the following conditional actions:\n",
        "\n",
        "If n is odd, print Weird\n",
        "\n",
        "\n",
        "---\n",
        "\n",
        "\n",
        "If n is even and in the inclusive range of 2 to 5, print Not Weird\n",
        "\n",
        "---\n",
        "\n",
        "\n",
        "If n is even and in the inclusive range of 6 to 20 , print Weird\n",
        "\n",
        "\n",
        "If n is even and greater than 20, print Not Weird\n",
        "\n",
        "\n",
        "Input Format:\n",
        "A single line containing a positive integer, .\n",
        "\n",
        "n is between 1 and 100 both includes.\n",
        "\n",
        "\n",
        "\n"
      ]
    },
    {
      "cell_type": "code",
      "metadata": {
        "colab": {
          "base_uri": "https://localhost:8080/"
        },
        "id": "qsJ6P-DYE2u5",
        "outputId": "78f0102b-509b-4f0e-fd0b-2149e355f48b"
      },
      "source": [
        "  \n",
        "import math\n",
        "import os\n",
        "import random\n",
        "import re\n",
        "import sys\n",
        "\n",
        "  \n",
        "n=25\n",
        "    \n",
        "if(n%2==1):\n",
        "    print(\"Weird\")\n",
        "elif(2<=n and n<=5):\n",
        "    print(\"Not Weird\")\n",
        "elif(6<=n and n<=20):\n",
        "    print(\"Weird\")\n",
        "else:\n",
        "    print(\"Not Weird\")\n",
        "    "
      ],
      "execution_count": null,
      "outputs": [
        {
          "output_type": "stream",
          "name": "stdout",
          "text": [
            "Weird\n"
          ]
        }
      ]
    }
  ]
}