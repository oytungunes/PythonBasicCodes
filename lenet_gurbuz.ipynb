{
  "nbformat": 4,
  "nbformat_minor": 0,
  "metadata": {
    "colab": {
      "provenance": [],
      "collapsed_sections": [],
      "authorship_tag": "ABX9TyPFgKWAfp+s04kOlaSthswF",
      "include_colab_link": true
    },
    "kernelspec": {
      "name": "python3",
      "display_name": "Python 3"
    },
    "language_info": {
      "name": "python"
    }
  },
  "cells": [
    {
      "cell_type": "markdown",
      "metadata": {
        "id": "view-in-github",
        "colab_type": "text"
      },
      "source": [
        "<a href=\"https://colab.research.google.com/github/oytungunes/PythonCodeExamples/blob/main/lenet_gurbuz.ipynb\" target=\"_parent\"><img src=\"https://colab.research.google.com/assets/colab-badge.svg\" alt=\"Open In Colab\"/></a>"
      ]
    },
    {
      "cell_type": "markdown",
      "source": [
        "\n"
      ],
      "metadata": {
        "id": "_xEJQ7XzCQB0"
      }
    },
    {
      "cell_type": "code",
      "execution_count": null,
      "metadata": {
        "colab": {
          "base_uri": "https://localhost:8080/"
        },
        "id": "ej9j4qGX-MJX",
        "outputId": "c091585c-d538-4ae4-9ea3-d50affd7c030"
      },
      "outputs": [
        {
          "output_type": "stream",
          "name": "stdout",
          "text": [
            "Mounted at /content/drive\n"
          ]
        }
      ],
      "source": [
        "from google.colab import drive\n",
        "drive.mount('/content/drive')"
      ]
    },
    {
      "cell_type": "code",
      "source": [
        "import imblearn\n",
        "\n",
        "\n",
        "\n",
        "import keras\n",
        "from keras.utils import np_utils\n",
        "from sklearn.model_selection import KFold, StratifiedKFold\n",
        "\n",
        "from keras.layers import Dense, LSTM, Flatten, TimeDistributed, Conv2D, MaxPooling2D\n",
        "from keras.models import Sequential\n",
        "from keras.callbacks import EarlyStopping\n",
        "from keras.callbacks import ModelCheckpoint\n",
        "from keras.models import load_model\n",
        "#\n",
        "\n",
        "\n",
        "import scipy.io\n",
        "import numpy as np\n",
        "\n",
        "mat = scipy.io.loadmat('/content/drive/MyDrive/newwdata/lenetspectrogramgurbuz.mat')"
      ],
      "metadata": {
        "id": "GMxRfZBCBBpm"
      },
      "execution_count": null,
      "outputs": []
    },
    {
      "cell_type": "code",
      "source": [
        "#load data\n",
        "\n",
        "X = mat['normalizedspectrogram'] \n",
        "Y = mat['YTrain'] # numofsample x 1 0s and 1s\n",
        "X = X.reshape(X.shape[2],X.shape[0],X.shape[1])# \n",
        "print(X.shape)# 113x32x 32"
      ],
      "metadata": {
        "colab": {
          "base_uri": "https://localhost:8080/"
        },
        "id": "IeyJQ5HLgmko",
        "outputId": "583481a3-d0f6-4f8f-e70e-35d72cab553c"
      },
      "execution_count": null,
      "outputs": [
        {
          "output_type": "stream",
          "name": "stdout",
          "text": [
            "(116, 28, 28)\n"
          ]
        }
      ]
    },
    {
      "cell_type": "code",
      "source": [
        "#%%\n",
        "from sklearn.model_selection import train_test_split\n",
        "X_train, X_test, y_train, y_test = train_test_split( X, Y, test_size=0.12, random_state=1)\n",
        "X_train, X_val, y_train, y_val = train_test_split( X_train, y_train, test_size=0.12, random_state=1)"
      ],
      "metadata": {
        "id": "anC1mWg_gjk2"
      },
      "execution_count": null,
      "outputs": []
    },
    {
      "cell_type": "code",
      "source": [
        "#%%\n",
        "from keras.models import Sequential\n",
        "from keras.layers import Conv1D\n",
        "from keras.layers import MaxPooling1D\n",
        "from keras.layers import LSTM\n",
        "from keras.layers import Dense\n",
        "from keras.layers import Flatten\n",
        "from keras.layers import TimeDistributed\n",
        "from keras.callbacks import ModelCheckpoint, EarlyStopping\n",
        "from keras.layers import Dense, LSTM, Flatten, TimeDistributed, Conv2D, MaxPooling2D\n",
        "from keras.models import load_model\n",
        "from keras.layers import LeakyReLU\n",
        "from keras.layers import ZeroPadding2D\n",
        "from keras.layers import Dropout\n",
        "from tensorflow.keras import datasets, layers, models\n",
        "\n",
        "import tensorflow as tf\n",
        "\n",
        "\n",
        "model = keras.Sequential()\n",
        "\n",
        "model.add(layers.Conv2D(filters=6, kernel_size=(3, 3), activation='relu', input_shape=(28,28,1)))\n",
        "model.add(layers.AveragePooling2D())\n",
        "\n",
        "model.add(layers.Conv2D(filters=16, kernel_size=(3, 3), activation='relu'))\n",
        "model.add(layers.AveragePooling2D())\n",
        "\n",
        "model.add(layers.Flatten())\n",
        "\n",
        "model.add(layers.Dense(units=120, activation='relu'))\n",
        "\n",
        "model.add(layers.Dense(units=84, activation='relu'))\n",
        "model.add(Dense(1, activation='sigmoid'))\n",
        "\n",
        "\n",
        "opt = tf.keras.optimizers.Adam(0.02)\n",
        "\n",
        "model.compile(loss= 'binary_crossentropy' , optimizer= opt , metrics=[ 'acc' ])\n",
        "model.summary()\n"
      ],
      "metadata": {
        "id": "wFvEIlTfhnAf",
        "colab": {
          "base_uri": "https://localhost:8080/"
        },
        "outputId": "565310e9-b77c-4a3b-90cf-853aeaffdc35"
      },
      "execution_count": null,
      "outputs": [
        {
          "output_type": "stream",
          "name": "stdout",
          "text": [
            "Model: \"sequential_3\"\n",
            "_________________________________________________________________\n",
            " Layer (type)                Output Shape              Param #   \n",
            "=================================================================\n",
            " conv2d_6 (Conv2D)           (None, 26, 26, 6)         60        \n",
            "                                                                 \n",
            " average_pooling2d_6 (Averag  (None, 13, 13, 6)        0         \n",
            " ePooling2D)                                                     \n",
            "                                                                 \n",
            " conv2d_7 (Conv2D)           (None, 11, 11, 16)        880       \n",
            "                                                                 \n",
            " average_pooling2d_7 (Averag  (None, 5, 5, 16)         0         \n",
            " ePooling2D)                                                     \n",
            "                                                                 \n",
            " flatten_3 (Flatten)         (None, 400)               0         \n",
            "                                                                 \n",
            " dense_9 (Dense)             (None, 120)               48120     \n",
            "                                                                 \n",
            " dense_10 (Dense)            (None, 84)                10164     \n",
            "                                                                 \n",
            " dense_11 (Dense)            (None, 1)                 85        \n",
            "                                                                 \n",
            "=================================================================\n",
            "Total params: 59,309\n",
            "Trainable params: 59,309\n",
            "Non-trainable params: 0\n",
            "_________________________________________________________________\n"
          ]
        }
      ]
    },
    {
      "cell_type": "code",
      "source": [
        "\n",
        "\n",
        "\n",
        "\n",
        "\n",
        "#numberOfHiddenUnits =15 # calisan 8\n",
        "#model = Sequential()\n",
        "#model.add(LSTM(numberOfHiddenUnits))\n",
        "#model.add(Dense(2, activation='sigmoid'))\n",
        "#optimizer = keras.optimizers.Adam(lr=0.01)\n",
        "#model.compile(loss=\"categorical_crosse#ntropy\", optimizer=optimizer, metrics=['acc'])\n",
        "#model.compile(loss=\"binary_crossentropy\", optimizer='Adam', metrics=['acc'])\n",
        "\n",
        "\n",
        "\n",
        "\n",
        "mycallbacks = [\n",
        "    keras.callbacks.ModelCheckpoint(\n",
        "        \"best_model.h5\", save_best_only=True, monitor=\"val_loss\"\n",
        "    ),\n",
        "    keras.callbacks.EarlyStopping(monitor=\"val_loss\", patience=50,verbose=1),\n",
        "]\n",
        "\n",
        "history= model.fit(X_train, y_train,validation_data=(X_val, y_val),batch_size=64,epochs=70,callbacks =[mycallbacks],verbose=1)\n",
        "\n",
        "\n",
        "\n",
        "#%%\n",
        "\n",
        "import matplotlib.pyplot as plt\n",
        "\n",
        "myacc = history.history['acc']\n",
        "trainingaccuracy= myacc[-1]\n",
        "accuracy = [x * 100 for x in myacc]\n",
        "\n",
        "plt.figure(2)\n",
        "plt.plot(accuracy)\n",
        "plt.title('Training Accuracy vs Epoch ')\n",
        "plt.ylabel('Accuracy value (%)')\n",
        "plt.xlabel('No. epoch')\n",
        "plt.show()\n",
        "\n",
        "\n",
        "\n",
        "# \"Loss\"\n",
        "plt.plot(history.history['loss'])\n",
        "plt.plot(history.history['val_loss'])\n",
        "plt.title('model loss')\n",
        "plt.ylabel('loss')\n",
        "plt.xlabel('epoch')\n",
        "plt.legend(['train', 'validation'], loc='upper right')\n",
        "plt.show()"
      ],
      "metadata": {
        "colab": {
          "base_uri": "https://localhost:8080/",
          "height": 1000
        },
        "id": "29F_weTHBG-G",
        "outputId": "48c1ecf7-7957-47eb-fa95-afc45e9f7144"
      },
      "execution_count": null,
      "outputs": [
        {
          "output_type": "stream",
          "name": "stdout",
          "text": [
            "Epoch 1/70\n",
            "2/2 [==============================] - 1s 343ms/step - loss: 0.7486 - acc: 0.4382 - val_loss: 0.7057 - val_acc: 0.3077\n",
            "Epoch 2/70\n",
            "2/2 [==============================] - 0s 44ms/step - loss: 0.6941 - acc: 0.5056 - val_loss: 0.7130 - val_acc: 0.3077\n",
            "Epoch 3/70\n",
            "2/2 [==============================] - 0s 46ms/step - loss: 0.6977 - acc: 0.5056 - val_loss: 0.7185 - val_acc: 0.3077\n",
            "Epoch 4/70\n",
            "2/2 [==============================] - 0s 53ms/step - loss: 0.6950 - acc: 0.5056 - val_loss: 0.7085 - val_acc: 0.3077\n",
            "Epoch 5/70\n",
            "2/2 [==============================] - 0s 83ms/step - loss: 0.6934 - acc: 0.5056 - val_loss: 0.7035 - val_acc: 0.3077\n",
            "Epoch 6/70\n",
            "2/2 [==============================] - 0s 72ms/step - loss: 0.6930 - acc: 0.5056 - val_loss: 0.6987 - val_acc: 0.3077\n",
            "Epoch 7/70\n",
            "2/2 [==============================] - 0s 87ms/step - loss: 0.6928 - acc: 0.5056 - val_loss: 0.6914 - val_acc: 0.6923\n",
            "Epoch 8/70\n",
            "2/2 [==============================] - 0s 72ms/step - loss: 0.6930 - acc: 0.4944 - val_loss: 0.6831 - val_acc: 0.6923\n",
            "Epoch 9/70\n",
            "2/2 [==============================] - 0s 72ms/step - loss: 0.6935 - acc: 0.4944 - val_loss: 0.6800 - val_acc: 0.6923\n",
            "Epoch 10/70\n",
            "2/2 [==============================] - 0s 73ms/step - loss: 0.6939 - acc: 0.4944 - val_loss: 0.6798 - val_acc: 0.6923\n",
            "Epoch 11/70\n",
            "2/2 [==============================] - 0s 41ms/step - loss: 0.6945 - acc: 0.4944 - val_loss: 0.6826 - val_acc: 0.6923\n",
            "Epoch 12/70\n",
            "2/2 [==============================] - 0s 40ms/step - loss: 0.6930 - acc: 0.4944 - val_loss: 0.6919 - val_acc: 0.6923\n",
            "Epoch 13/70\n",
            "2/2 [==============================] - 0s 48ms/step - loss: 0.6919 - acc: 0.5618 - val_loss: 0.7013 - val_acc: 0.3077\n",
            "Epoch 14/70\n",
            "2/2 [==============================] - 0s 50ms/step - loss: 0.6923 - acc: 0.5056 - val_loss: 0.7081 - val_acc: 0.3077\n",
            "Epoch 15/70\n",
            "2/2 [==============================] - 0s 42ms/step - loss: 0.6914 - acc: 0.5056 - val_loss: 0.7103 - val_acc: 0.3077\n",
            "Epoch 16/70\n",
            "2/2 [==============================] - 0s 40ms/step - loss: 0.6916 - acc: 0.5056 - val_loss: 0.7130 - val_acc: 0.3077\n",
            "Epoch 17/70\n",
            "2/2 [==============================] - 0s 44ms/step - loss: 0.6895 - acc: 0.5056 - val_loss: 0.7194 - val_acc: 0.3077\n",
            "Epoch 18/70\n",
            "2/2 [==============================] - 0s 50ms/step - loss: 0.6879 - acc: 0.5056 - val_loss: 0.7216 - val_acc: 0.3077\n",
            "Epoch 19/70\n",
            "2/2 [==============================] - 0s 38ms/step - loss: 0.6835 - acc: 0.5169 - val_loss: 0.7178 - val_acc: 0.4615\n",
            "Epoch 20/70\n",
            "2/2 [==============================] - 0s 39ms/step - loss: 0.6771 - acc: 0.6067 - val_loss: 0.6980 - val_acc: 0.3846\n",
            "Epoch 21/70\n",
            "2/2 [==============================] - 0s 43ms/step - loss: 0.6698 - acc: 0.5730 - val_loss: 0.7137 - val_acc: 0.3846\n",
            "Epoch 22/70\n",
            "2/2 [==============================] - 0s 42ms/step - loss: 0.6603 - acc: 0.6067 - val_loss: 0.7217 - val_acc: 0.3846\n",
            "Epoch 23/70\n",
            "2/2 [==============================] - 0s 49ms/step - loss: 0.6342 - acc: 0.6180 - val_loss: 0.7469 - val_acc: 0.3846\n",
            "Epoch 24/70\n",
            "2/2 [==============================] - 0s 74ms/step - loss: 0.6093 - acc: 0.7079 - val_loss: 0.6352 - val_acc: 0.4615\n",
            "Epoch 25/70\n",
            "2/2 [==============================] - 0s 51ms/step - loss: 0.6167 - acc: 0.6404 - val_loss: 0.6991 - val_acc: 0.5385\n",
            "Epoch 26/70\n",
            "2/2 [==============================] - 0s 40ms/step - loss: 0.5954 - acc: 0.6292 - val_loss: 0.7582 - val_acc: 0.3846\n",
            "Epoch 27/70\n",
            "2/2 [==============================] - 0s 49ms/step - loss: 0.5921 - acc: 0.6854 - val_loss: 0.6842 - val_acc: 0.4615\n",
            "Epoch 28/70\n",
            "2/2 [==============================] - 0s 72ms/step - loss: 0.5476 - acc: 0.7191 - val_loss: 0.5534 - val_acc: 0.5385\n",
            "Epoch 29/70\n",
            "2/2 [==============================] - 0s 74ms/step - loss: 0.5399 - acc: 0.6854 - val_loss: 0.5306 - val_acc: 0.6154\n",
            "Epoch 30/70\n",
            "2/2 [==============================] - 0s 43ms/step - loss: 0.5067 - acc: 0.7079 - val_loss: 0.6714 - val_acc: 0.5385\n",
            "Epoch 31/70\n",
            "2/2 [==============================] - 0s 50ms/step - loss: 0.4853 - acc: 0.7303 - val_loss: 0.6111 - val_acc: 0.5385\n",
            "Epoch 32/70\n",
            "2/2 [==============================] - 0s 46ms/step - loss: 0.4896 - acc: 0.7528 - val_loss: 0.6922 - val_acc: 0.4615\n",
            "Epoch 33/70\n",
            "2/2 [==============================] - 0s 40ms/step - loss: 0.4400 - acc: 0.7753 - val_loss: 0.8792 - val_acc: 0.5385\n",
            "Epoch 34/70\n",
            "2/2 [==============================] - 0s 42ms/step - loss: 0.4977 - acc: 0.7416 - val_loss: 0.7668 - val_acc: 0.5385\n",
            "Epoch 35/70\n",
            "2/2 [==============================] - 0s 47ms/step - loss: 0.4404 - acc: 0.7528 - val_loss: 0.6081 - val_acc: 0.6154\n",
            "Epoch 36/70\n",
            "2/2 [==============================] - 0s 52ms/step - loss: 0.4062 - acc: 0.8090 - val_loss: 0.6816 - val_acc: 0.6154\n",
            "Epoch 37/70\n",
            "2/2 [==============================] - 0s 68ms/step - loss: 0.4230 - acc: 0.7753 - val_loss: 0.4303 - val_acc: 0.6923\n",
            "Epoch 38/70\n",
            "2/2 [==============================] - 0s 42ms/step - loss: 0.3691 - acc: 0.7865 - val_loss: 0.5471 - val_acc: 0.7692\n",
            "Epoch 39/70\n",
            "2/2 [==============================] - 0s 41ms/step - loss: 0.3894 - acc: 0.6966 - val_loss: 0.4953 - val_acc: 0.6154\n",
            "Epoch 40/70\n",
            "2/2 [==============================] - 0s 41ms/step - loss: 0.3561 - acc: 0.7978 - val_loss: 0.6435 - val_acc: 0.5385\n",
            "Epoch 41/70\n",
            "2/2 [==============================] - 0s 38ms/step - loss: 0.3780 - acc: 0.7865 - val_loss: 0.7533 - val_acc: 0.6154\n",
            "Epoch 42/70\n",
            "2/2 [==============================] - 0s 45ms/step - loss: 0.3360 - acc: 0.8315 - val_loss: 1.0644 - val_acc: 0.5385\n",
            "Epoch 43/70\n",
            "2/2 [==============================] - 0s 45ms/step - loss: 0.3577 - acc: 0.7865 - val_loss: 1.0366 - val_acc: 0.6923\n",
            "Epoch 44/70\n",
            "2/2 [==============================] - 0s 40ms/step - loss: 0.3437 - acc: 0.7978 - val_loss: 0.8843 - val_acc: 0.6154\n",
            "Epoch 45/70\n",
            "2/2 [==============================] - 0s 42ms/step - loss: 0.3252 - acc: 0.8202 - val_loss: 0.8197 - val_acc: 0.5385\n",
            "Epoch 46/70\n",
            "2/2 [==============================] - 0s 40ms/step - loss: 0.3195 - acc: 0.8315 - val_loss: 0.6779 - val_acc: 0.6923\n",
            "Epoch 47/70\n",
            "2/2 [==============================] - 0s 42ms/step - loss: 0.3535 - acc: 0.7978 - val_loss: 0.7131 - val_acc: 0.5385\n",
            "Epoch 48/70\n",
            "2/2 [==============================] - 0s 40ms/step - loss: 0.3262 - acc: 0.8315 - val_loss: 0.9972 - val_acc: 0.5385\n",
            "Epoch 49/70\n",
            "2/2 [==============================] - 0s 40ms/step - loss: 0.3278 - acc: 0.8202 - val_loss: 1.5713 - val_acc: 0.5385\n",
            "Epoch 50/70\n",
            "2/2 [==============================] - 0s 40ms/step - loss: 0.3335 - acc: 0.8202 - val_loss: 1.2076 - val_acc: 0.4615\n",
            "Epoch 51/70\n",
            "2/2 [==============================] - 0s 38ms/step - loss: 0.3134 - acc: 0.8315 - val_loss: 1.1969 - val_acc: 0.5385\n",
            "Epoch 52/70\n",
            "2/2 [==============================] - 0s 45ms/step - loss: 0.3167 - acc: 0.8315 - val_loss: 1.2322 - val_acc: 0.6154\n",
            "Epoch 53/70\n",
            "2/2 [==============================] - 0s 44ms/step - loss: 0.3112 - acc: 0.8315 - val_loss: 1.3212 - val_acc: 0.6154\n",
            "Epoch 54/70\n",
            "2/2 [==============================] - 0s 46ms/step - loss: 0.3030 - acc: 0.8202 - val_loss: 1.4952 - val_acc: 0.6154\n",
            "Epoch 55/70\n",
            "2/2 [==============================] - 0s 46ms/step - loss: 0.3005 - acc: 0.8315 - val_loss: 1.6985 - val_acc: 0.6154\n",
            "Epoch 56/70\n",
            "2/2 [==============================] - 0s 44ms/step - loss: 0.3028 - acc: 0.8315 - val_loss: 1.8921 - val_acc: 0.6154\n",
            "Epoch 57/70\n",
            "2/2 [==============================] - 0s 39ms/step - loss: 0.2976 - acc: 0.8315 - val_loss: 2.0272 - val_acc: 0.6154\n",
            "Epoch 58/70\n",
            "2/2 [==============================] - 0s 42ms/step - loss: 0.2943 - acc: 0.8315 - val_loss: 2.1773 - val_acc: 0.6154\n",
            "Epoch 59/70\n",
            "2/2 [==============================] - 0s 42ms/step - loss: 0.2955 - acc: 0.8315 - val_loss: 2.3045 - val_acc: 0.6154\n",
            "Epoch 60/70\n",
            "2/2 [==============================] - 0s 50ms/step - loss: 0.2929 - acc: 0.8315 - val_loss: 2.4238 - val_acc: 0.6154\n",
            "Epoch 61/70\n",
            "2/2 [==============================] - 0s 44ms/step - loss: 0.2900 - acc: 0.8315 - val_loss: 2.5001 - val_acc: 0.5385\n",
            "Epoch 62/70\n",
            "2/2 [==============================] - 0s 42ms/step - loss: 0.2957 - acc: 0.8315 - val_loss: 2.7277 - val_acc: 0.5385\n",
            "Epoch 63/70\n",
            "2/2 [==============================] - 0s 39ms/step - loss: 0.2936 - acc: 0.8315 - val_loss: 2.9883 - val_acc: 0.5385\n",
            "Epoch 64/70\n",
            "2/2 [==============================] - 0s 43ms/step - loss: 0.2925 - acc: 0.8315 - val_loss: 2.7211 - val_acc: 0.5385\n",
            "Epoch 65/70\n",
            "2/2 [==============================] - 0s 46ms/step - loss: 0.2877 - acc: 0.8315 - val_loss: 2.5867 - val_acc: 0.5385\n",
            "Epoch 66/70\n",
            "2/2 [==============================] - 0s 39ms/step - loss: 0.2861 - acc: 0.8315 - val_loss: 2.5607 - val_acc: 0.5385\n",
            "Epoch 67/70\n",
            "2/2 [==============================] - 0s 43ms/step - loss: 0.2894 - acc: 0.8315 - val_loss: 2.5568 - val_acc: 0.5385\n",
            "Epoch 68/70\n",
            "2/2 [==============================] - 0s 40ms/step - loss: 0.2897 - acc: 0.8315 - val_loss: 2.5489 - val_acc: 0.5385\n",
            "Epoch 69/70\n",
            "2/2 [==============================] - 0s 42ms/step - loss: 0.2939 - acc: 0.8315 - val_loss: 2.5398 - val_acc: 0.6923\n",
            "Epoch 70/70\n",
            "2/2 [==============================] - 0s 53ms/step - loss: 0.2948 - acc: 0.7528 - val_loss: 2.4913 - val_acc: 0.5385\n"
          ]
        },
        {
          "output_type": "display_data",
          "data": {
            "text/plain": [
              "<Figure size 432x288 with 1 Axes>"
            ],
            "image/png": "[encoded data removed]"
          },
          "metadata": {
            "needs_background": "light"
          }
        },
        {
          "output_type": "display_data",
          "data": {
            "text/plain": [
              "<Figure size 432x288 with 1 Axes>"
            ],
            "image/png": "[encoded data removed]"
          },
          "metadata": {
            "needs_background": "light"
          }
        }
      ]
    },
    {
      "cell_type": "code",
      "source": [
        "from sklearn.metrics import f1_score\n",
        "\n",
        "model= keras.models.load_model('best_model.h5')\n",
        "\n",
        "y_hat_classes=(model.predict(X_test) > 0.5).astype(\"int32\")\n",
        "\n",
        "trainloss, train_acc = model.evaluate(X_train, y_train)\n",
        "valloss, val_acc = model.evaluate(X_val, y_val)\n",
        "\n",
        "testloss,test_acc = model.evaluate(X_test,y_test)\n",
        "\n",
        "print(\"Train Accuracy\",train_acc)\n",
        "print(\"Val Accuracy\",val_acc)\n",
        "print(\"Test Accuracy\",test_acc)\n",
        "\n",
        "list1 = list(y_hat_classes)\n",
        "list2 = list(y_test)\n",
        "f1score = f1_score(list2, list1)\n",
        "\n",
        "print(\"F1 SCORE\",f1score)\n"
      ],
      "metadata": {
        "colab": {
          "base_uri": "https://localhost:8080/"
        },
        "id": "VqJsqm0OB-bt",
        "outputId": "d0b4dca6-39cc-42e6-e760-bc3fc2354f32"
      },
      "execution_count": null,
      "outputs": [
        {
          "output_type": "stream",
          "name": "stdout",
          "text": [
            "WARNING:tensorflow:5 out of the last 7 calls to <function Model.make_predict_function.<locals>.predict_function at 0x7f4515c7de60> triggered tf.function retracing. Tracing is expensive and the excessive number of tracings could be due to (1) creating @tf.function repeatedly in a loop, (2) passing tensors with different shapes, (3) passing Python objects instead of tensors. For (1), please define your @tf.function outside of the loop. For (2), @tf.function has experimental_relax_shapes=True option that relaxes argument shapes that can avoid unnecessary retracing. For (3), please refer to https://www.tensorflow.org/guide/function#controlling_retracing and https://www.tensorflow.org/api_docs/python/tf/function for  more details.\n",
            "3/3 [==============================] - 0s 9ms/step - loss: 0.3709 - acc: 0.7865\n",
            "1/1 [==============================] - 0s 26ms/step - loss: 0.4303 - acc: 0.6923\n",
            "1/1 [==============================] - 0s 25ms/step - loss: 0.4288 - acc: 0.7143\n",
            "Train Accuracy 0.7865168452262878\n",
            "Val Accuracy 0.692307710647583\n",
            "Test Accuracy 0.7142857313156128\n",
            "F1 SCORE 0.8\n"
          ]
        }
      ]
    }
  ]
}