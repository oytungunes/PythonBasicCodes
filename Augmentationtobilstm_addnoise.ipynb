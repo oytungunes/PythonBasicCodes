{
  "nbformat": 4,
  "nbformat_minor": 0,
  "metadata": {
    "colab": {
      "provenance": [],
      "authorship_tag": "ABX9TyN4PyXEaugYkbfIw5iegMm8",
      "include_colab_link": true
    },
    "kernelspec": {
      "name": "python3",
      "display_name": "Python 3"
    },
    "language_info": {
      "name": "python"
    }
  },
  "cells": [
    {
      "cell_type": "markdown",
      "metadata": {
        "id": "view-in-github",
        "colab_type": "text"
      },
      "source": [
        "<a href=\"https://colab.research.google.com/github/oytungunes/PythonCodeExamples/blob/main/Augmentationtobilstm_addnoise.ipynb\" target=\"_parent\"><img src=\"https://colab.research.google.com/assets/colab-badge.svg\" alt=\"Open In Colab\"/></a>"
      ]
    },
    {
      "cell_type": "code",
      "execution_count": 42,
      "metadata": {
        "colab": {
          "base_uri": "https://localhost:8080/"
        },
        "id": "4ZYXs0d7EEYT",
        "outputId": "0066d012-3eb4-4ca1-9c5c-d812940da3a5"
      },
      "outputs": [
        {
          "output_type": "stream",
          "name": "stdout",
          "text": [
            "Drive already mounted at /content/drive; to attempt to forcibly remount, call drive.mount(\"/content/drive\", force_remount=True).\n"
          ]
        }
      ],
      "source": [
        "from google.colab import drive\n",
        "drive.mount('/content/drive')"
      ]
    },
    {
      "cell_type": "code",
      "source": [
        "import imblearn\n",
        "import keras\n",
        "from keras.utils import np_utils\n",
        "from sklearn.model_selection import KFold, StratifiedKFold\n",
        "\n",
        "from keras.layers import Dense, LSTM, Flatten, TimeDistributed, Conv2D, MaxPooling2D\n",
        "from keras.models import Sequential\n",
        "from keras.callbacks import EarlyStopping\n",
        "from keras.callbacks import ModelCheckpoint\n",
        "from keras.models import load_model\n",
        "from keras.layers import Bidirectional\n",
        "\n",
        "\n",
        "\n",
        "import scipy.io\n",
        "import numpy as np\n",
        "\n",
        "mat = scipy.io.loadmat('/content/drive/MyDrive/newwdata/featuresconcatpeoplewalking.mat')"
      ],
      "metadata": {
        "id": "jS-lCQNDEHcO"
      },
      "execution_count": 59,
      "outputs": []
    },
    {
      "cell_type": "code",
      "source": [
        "\n",
        "#%%\n",
        "X = mat['XTrainnew3'] #2 x 1178 x 141 , numoffeatures x timelength x sample\n",
        "Y = mat['label'] # numofsample x 1 0s and 1s\n",
        "X = X.reshape(X.shape[2],X.shape[1],X.shape[0])# 113 845 26\n",
        "\n",
        "#%%\n",
        "\n",
        "\n",
        "from sklearn.model_selection import train_test_split\n",
        "X_train, X_test, y_train, y_test = train_test_split( X, Y, test_size=0.11, random_state=2)\n",
        "X_train, X_val, y_train, y_val = train_test_split( X_train, y_train, test_size=0.1, random_state=2)\n",
        "\n",
        "y_train = np_utils.to_categorical(y_train)\n",
        "y_val = np_utils.to_categorical(y_val)\n",
        "y_test = np_utils.to_categorical(y_test)\n",
        "\n",
        "mu=0\n",
        "sigma= 1\n",
        "noise = np.random.normal(mu, sigma, X_train.shape)\n",
        "X_train_noisy1 = X_train + noise\n",
        "\n",
        "noise = np.random.normal(mu, sigma, X_train.shape)\n",
        "X_train_noisy2 = X_train + noise\n",
        "\n",
        "noise = np.random.normal(mu, sigma, X_train.shape)\n",
        "X_train_noisy3 = X_train + noise\n",
        "\n",
        "noise = np.random.normal(mu, sigma, X_train.shape)\n",
        "X_train_noisy4= X_train + noise\n",
        "\n",
        "X_train_augmented = np.concatenate((X_train, X_train_noisy1,X_train_noisy2,X_train_noisy3,X_train_noisy4), axis=0)\n",
        "\n",
        "print(X_train_noisy4.shape)\n",
        "print(X_train_augmented.shape)\n",
        "\n",
        "y_train_augmented = np.concatenate((y_train, y_train,y_train,y_train,y_train), axis=0)\n",
        "\n",
        "\n",
        "print(y_train.shape)\n",
        "print(y_train_augmented.shape)\n",
        "\n"
      ],
      "metadata": {
        "colab": {
          "base_uri": "https://localhost:8080/"
        },
        "id": "rWxR9fFbHMeH",
        "outputId": "65e237ac-e2f1-485c-9e41-798e58bd1da4"
      },
      "execution_count": 71,
      "outputs": [
        {
          "output_type": "stream",
          "name": "stdout",
          "text": [
            "(90, 845, 26)\n",
            "(450, 845, 26)\n",
            "(90, 2)\n",
            "(450, 2)\n"
          ]
        }
      ]
    },
    {
      "cell_type": "code",
      "source": [
        "#%%\n",
        "#\n",
        "from keras.layers import Dense, LSTM, Flatten, TimeDistributed, Conv2D, MaxPooling2D\n",
        "from keras.models import Sequential\n",
        "from keras.callbacks import EarlyStopping\n",
        "from keras.callbacks import ModelCheckpoint\n",
        "from keras.models import load_model\n",
        "from tensorflow.keras import regularizers\n",
        "import tensorflow as tf \n",
        "\n",
        "numberOfHiddenUnits =10 # calisan 8\n",
        "model = Sequential()\n",
        "model.add(Bidirectional(LSTM(numberOfHiddenUnits)))\n",
        "model.add(Dense(2, activation='sigmoid',activity_regularizer=regularizers.L2(0.001),kernel_regularizer=regularizers.L2(0.001)))\n",
        "opt = tf.keras.optimizers.Adam(0.02)\n",
        "#model.compile(loss=\"categorical_crosse#ntropy\", optimizer=optimizer, metrics=['acc'])\n",
        "model.compile(loss=\"binary_crossentropy\", optimizer=opt, metrics=['acc'])\n",
        "\n",
        "\n",
        "mycallbacks = [\n",
        "    keras.callbacks.ModelCheckpoint(\n",
        "        \"best_model.h5\", save_best_only=True, monitor=\"val_loss\"\n",
        "    ),\n",
        "    keras.callbacks.ReduceLROnPlateau(\n",
        "        monitor=\"val_loss\", factor=0.1, patience=25, min_lr=0\n",
        "    ),\n",
        "    keras.callbacks.EarlyStopping(monitor=\"val_loss\", patience=25,verbose=1),\n",
        "]\n",
        "\n",
        "\n",
        "\n",
        "#print(model.summary())\n",
        "history= model.fit(X_train_augmented, y_train_augmented,validation_data=(X_val, y_val),batch_size=64,epochs=150,callbacks =[mycallbacks],verbose=1)\n",
        "#history= model.fit(X_train, y_train,validation_data=(X_val, y_val),batch_size=64,epochs=100,verbose=1)\n",
        "\n",
        "#%%\n",
        "\n",
        "import matplotlib.pyplot as plt\n",
        "\n",
        "myacc = history.history['acc']\n",
        "trainingaccuracy= myacc[-1]\n",
        "accuracy = [x * 100 for x in myacc]\n",
        "\n",
        "plt.figure(2)\n",
        "plt.plot(accuracy)\n",
        "plt.title('Training Accuracy vs Epoch ')\n",
        "plt.ylabel('Accuracy value (%)')\n",
        "plt.xlabel('No. epoch')\n",
        "plt.show()\n",
        "\n",
        "\n",
        "\n",
        "# \"Loss\"\n",
        "plt.plot(history.history['loss'])\n",
        "plt.plot(history.history['val_loss'])\n",
        "plt.title('model loss')\n",
        "plt.ylabel('loss')\n",
        "plt.xlabel('epoch')\n",
        "plt.legend(['train', 'validation'], loc='upper right')\n",
        "plt.show()\n",
        "\n",
        "\n",
        "\n",
        "\n",
        "\n",
        "\n",
        "\n",
        "\n",
        "\n",
        "\n",
        "\n",
        "\n"
      ],
      "metadata": {
        "colab": {
          "base_uri": "https://localhost:8080/",
          "height": 1000
        },
        "id": "Lpdtk0nCVCme",
        "outputId": "3335f0cd-fe59-42b8-9c82-975d8df8b41a"
      },
      "execution_count": 72,
      "outputs": [
        {
          "output_type": "stream",
          "name": "stdout",
          "text": [
            "Epoch 1/150\n",
            "8/8 [==============================] - 13s 1s/step - loss: 0.6296 - acc: 0.6778 - val_loss: 0.3400 - val_acc: 0.9000 - lr: 0.0200\n",
            "Epoch 2/150\n",
            "8/8 [==============================] - 5s 542ms/step - loss: 0.2796 - acc: 0.9289 - val_loss: 0.2821 - val_acc: 0.9000 - lr: 0.0200\n",
            "Epoch 3/150\n",
            "8/8 [==============================] - 6s 787ms/step - loss: 0.1120 - acc: 0.9622 - val_loss: 0.4204 - val_acc: 0.9000 - lr: 0.0200\n",
            "Epoch 4/150\n",
            "8/8 [==============================] - 5s 662ms/step - loss: 0.1144 - acc: 0.9756 - val_loss: 0.0630 - val_acc: 1.0000 - lr: 0.0200\n",
            "Epoch 5/150\n",
            "8/8 [==============================] - 3s 395ms/step - loss: 0.0496 - acc: 0.9844 - val_loss: 0.3520 - val_acc: 0.9000 - lr: 0.0200\n",
            "Epoch 6/150\n",
            "8/8 [==============================] - 3s 394ms/step - loss: 0.0470 - acc: 0.9911 - val_loss: 0.4196 - val_acc: 0.9000 - lr: 0.0200\n",
            "Epoch 7/150\n",
            "8/8 [==============================] - 3s 388ms/step - loss: 0.0335 - acc: 0.9978 - val_loss: 0.4389 - val_acc: 0.8000 - lr: 0.0200\n",
            "Epoch 8/150\n",
            "8/8 [==============================] - 3s 395ms/step - loss: 0.0321 - acc: 1.0000 - val_loss: 0.4771 - val_acc: 0.8000 - lr: 0.0200\n",
            "Epoch 9/150\n",
            "8/8 [==============================] - 3s 392ms/step - loss: 0.0296 - acc: 1.0000 - val_loss: 0.5002 - val_acc: 0.8000 - lr: 0.0200\n",
            "Epoch 10/150\n",
            "8/8 [==============================] - 3s 392ms/step - loss: 0.0284 - acc: 1.0000 - val_loss: 0.5086 - val_acc: 0.8000 - lr: 0.0200\n",
            "Epoch 11/150\n",
            "8/8 [==============================] - 3s 401ms/step - loss: 0.0390 - acc: 0.9956 - val_loss: 0.0905 - val_acc: 1.0000 - lr: 0.0200\n",
            "Epoch 12/150\n",
            "8/8 [==============================] - 3s 398ms/step - loss: 0.0557 - acc: 0.9889 - val_loss: 0.3435 - val_acc: 0.9000 - lr: 0.0200\n",
            "Epoch 13/150\n",
            "8/8 [==============================] - 3s 385ms/step - loss: 0.0335 - acc: 1.0000 - val_loss: 0.4801 - val_acc: 0.9000 - lr: 0.0200\n",
            "Epoch 14/150\n",
            "8/8 [==============================] - 3s 381ms/step - loss: 0.0291 - acc: 1.0000 - val_loss: 0.2830 - val_acc: 0.9000 - lr: 0.0200\n",
            "Epoch 15/150\n",
            "8/8 [==============================] - 3s 395ms/step - loss: 0.0271 - acc: 1.0000 - val_loss: 0.1703 - val_acc: 0.9000 - lr: 0.0200\n",
            "Epoch 16/150\n",
            "8/8 [==============================] - 3s 386ms/step - loss: 0.0260 - acc: 1.0000 - val_loss: 0.1251 - val_acc: 1.0000 - lr: 0.0200\n",
            "Epoch 17/150\n",
            "8/8 [==============================] - 3s 390ms/step - loss: 0.0256 - acc: 1.0000 - val_loss: 0.1071 - val_acc: 1.0000 - lr: 0.0200\n",
            "Epoch 18/150\n",
            "8/8 [==============================] - 3s 384ms/step - loss: 0.0250 - acc: 1.0000 - val_loss: 0.0961 - val_acc: 1.0000 - lr: 0.0200\n",
            "Epoch 19/150\n",
            "8/8 [==============================] - 3s 405ms/step - loss: 0.0245 - acc: 1.0000 - val_loss: 0.0921 - val_acc: 1.0000 - lr: 0.0200\n",
            "Epoch 20/150\n",
            "8/8 [==============================] - 3s 384ms/step - loss: 0.0240 - acc: 1.0000 - val_loss: 0.0918 - val_acc: 1.0000 - lr: 0.0200\n",
            "Epoch 21/150\n",
            "8/8 [==============================] - 3s 381ms/step - loss: 0.0237 - acc: 1.0000 - val_loss: 0.0974 - val_acc: 1.0000 - lr: 0.0200\n",
            "Epoch 22/150\n",
            "8/8 [==============================] - 3s 391ms/step - loss: 0.0234 - acc: 1.0000 - val_loss: 0.0932 - val_acc: 1.0000 - lr: 0.0200\n",
            "Epoch 23/150\n",
            "8/8 [==============================] - 3s 392ms/step - loss: 0.0231 - acc: 1.0000 - val_loss: 0.0865 - val_acc: 1.0000 - lr: 0.0200\n",
            "Epoch 24/150\n",
            "8/8 [==============================] - 3s 405ms/step - loss: 0.0228 - acc: 1.0000 - val_loss: 0.0840 - val_acc: 1.0000 - lr: 0.0200\n",
            "Epoch 25/150\n",
            "8/8 [==============================] - 3s 406ms/step - loss: 0.0225 - acc: 1.0000 - val_loss: 0.0789 - val_acc: 1.0000 - lr: 0.0200\n",
            "Epoch 26/150\n",
            "8/8 [==============================] - 3s 392ms/step - loss: 0.0222 - acc: 1.0000 - val_loss: 0.0768 - val_acc: 1.0000 - lr: 0.0200\n",
            "Epoch 27/150\n",
            "8/8 [==============================] - 3s 395ms/step - loss: 0.0219 - acc: 1.0000 - val_loss: 0.0747 - val_acc: 1.0000 - lr: 0.0200\n",
            "Epoch 28/150\n",
            "8/8 [==============================] - 3s 392ms/step - loss: 0.0216 - acc: 1.0000 - val_loss: 0.0682 - val_acc: 1.0000 - lr: 0.0200\n",
            "Epoch 29/150\n",
            "8/8 [==============================] - 3s 401ms/step - loss: 0.0218 - acc: 1.0000 - val_loss: 0.0588 - val_acc: 1.0000 - lr: 0.0200\n",
            "Epoch 30/150\n",
            "8/8 [==============================] - 3s 390ms/step - loss: 0.0221 - acc: 1.0000 - val_loss: 0.0594 - val_acc: 1.0000 - lr: 0.0200\n",
            "Epoch 31/150\n",
            "8/8 [==============================] - 3s 404ms/step - loss: 0.0218 - acc: 1.0000 - val_loss: 0.0611 - val_acc: 1.0000 - lr: 0.0200\n",
            "Epoch 32/150\n",
            "8/8 [==============================] - 3s 414ms/step - loss: 0.0213 - acc: 1.0000 - val_loss: 0.0599 - val_acc: 1.0000 - lr: 0.0200\n",
            "Epoch 33/150\n",
            "8/8 [==============================] - 3s 407ms/step - loss: 0.0208 - acc: 1.0000 - val_loss: 0.0564 - val_acc: 1.0000 - lr: 0.0200\n",
            "Epoch 34/150\n",
            "8/8 [==============================] - 3s 390ms/step - loss: 0.0204 - acc: 1.0000 - val_loss: 0.0551 - val_acc: 1.0000 - lr: 0.0200\n",
            "Epoch 35/150\n",
            "8/8 [==============================] - 3s 389ms/step - loss: 0.0201 - acc: 1.0000 - val_loss: 0.0549 - val_acc: 1.0000 - lr: 0.0200\n",
            "Epoch 36/150\n",
            "8/8 [==============================] - 3s 380ms/step - loss: 0.0198 - acc: 1.0000 - val_loss: 0.0588 - val_acc: 1.0000 - lr: 0.0200\n",
            "Epoch 37/150\n",
            "8/8 [==============================] - 3s 381ms/step - loss: 0.0194 - acc: 1.0000 - val_loss: 0.0611 - val_acc: 1.0000 - lr: 0.0200\n",
            "Epoch 38/150\n",
            "8/8 [==============================] - 4s 507ms/step - loss: 0.0192 - acc: 1.0000 - val_loss: 0.0606 - val_acc: 1.0000 - lr: 0.0200\n",
            "Epoch 39/150\n",
            "8/8 [==============================] - 3s 393ms/step - loss: 0.0190 - acc: 1.0000 - val_loss: 0.0598 - val_acc: 1.0000 - lr: 0.0200\n",
            "Epoch 40/150\n",
            "8/8 [==============================] - 3s 396ms/step - loss: 0.0188 - acc: 1.0000 - val_loss: 0.0609 - val_acc: 1.0000 - lr: 0.0200\n",
            "Epoch 41/150\n",
            "8/8 [==============================] - 3s 391ms/step - loss: 0.0188 - acc: 1.0000 - val_loss: 0.0641 - val_acc: 1.0000 - lr: 0.0200\n",
            "Epoch 42/150\n",
            "8/8 [==============================] - 3s 387ms/step - loss: 0.0180 - acc: 1.0000 - val_loss: 0.0703 - val_acc: 1.0000 - lr: 0.0200\n",
            "Epoch 44/150\n",
            "8/8 [==============================] - 3s 385ms/step - loss: 0.0183 - acc: 1.0000 - val_loss: 0.0763 - val_acc: 1.0000 - lr: 0.0200\n",
            "Epoch 45/150\n",
            "8/8 [==============================] - 3s 394ms/step - loss: 0.0177 - acc: 1.0000 - val_loss: 0.0945 - val_acc: 0.9000 - lr: 0.0200\n",
            "Epoch 46/150\n",
            "8/8 [==============================] - 3s 395ms/step - loss: 0.0200 - acc: 1.0000 - val_loss: 0.1959 - val_acc: 0.9000 - lr: 0.0200\n",
            "Epoch 47/150\n",
            "8/8 [==============================] - 3s 391ms/step - loss: 0.0241 - acc: 1.0000 - val_loss: 0.2064 - val_acc: 0.9000 - lr: 0.0200\n",
            "Epoch 48/150\n",
            "8/8 [==============================] - 3s 385ms/step - loss: 0.0206 - acc: 1.0000 - val_loss: 0.1861 - val_acc: 0.9000 - lr: 0.0200\n",
            "Epoch 49/150\n",
            "8/8 [==============================] - 3s 401ms/step - loss: 0.0196 - acc: 1.0000 - val_loss: 0.1685 - val_acc: 0.9000 - lr: 0.0200\n",
            "Epoch 50/150\n",
            "8/8 [==============================] - 3s 399ms/step - loss: 0.0202 - acc: 1.0000 - val_loss: 0.1486 - val_acc: 0.9000 - lr: 0.0200\n",
            "Epoch 51/150\n",
            "8/8 [==============================] - 3s 389ms/step - loss: 0.0190 - acc: 1.0000 - val_loss: 0.1104 - val_acc: 0.9000 - lr: 0.0200\n",
            "Epoch 52/150\n",
            "8/8 [==============================] - 3s 378ms/step - loss: 0.0184 - acc: 1.0000 - val_loss: 0.0901 - val_acc: 0.9000 - lr: 0.0200\n",
            "Epoch 53/150\n",
            "8/8 [==============================] - 3s 386ms/step - loss: 0.0176 - acc: 1.0000 - val_loss: 0.0762 - val_acc: 1.0000 - lr: 0.0200\n",
            "Epoch 54/150\n",
            "8/8 [==============================] - 3s 406ms/step - loss: 0.0173 - acc: 1.0000 - val_loss: 0.0715 - val_acc: 1.0000 - lr: 0.0200\n",
            "Epoch 55/150\n",
            "8/8 [==============================] - 3s 382ms/step - loss: 0.0170 - acc: 1.0000 - val_loss: 0.0698 - val_acc: 1.0000 - lr: 0.0200\n",
            "Epoch 56/150\n",
            "8/8 [==============================] - 3s 383ms/step - loss: 0.0170 - acc: 1.0000 - val_loss: 0.0699 - val_acc: 1.0000 - lr: 0.0200\n",
            "Epoch 57/150\n",
            "8/8 [==============================] - 3s 405ms/step - loss: 0.0168 - acc: 1.0000 - val_loss: 0.0723 - val_acc: 1.0000 - lr: 0.0200\n",
            "Epoch 58/150\n",
            "8/8 [==============================] - 3s 387ms/step - loss: 0.0168 - acc: 1.0000 - val_loss: 0.0753 - val_acc: 1.0000 - lr: 0.0200\n",
            "Epoch 59/150\n",
            "8/8 [==============================] - 3s 377ms/step - loss: 0.0165 - acc: 1.0000 - val_loss: 0.0803 - val_acc: 1.0000 - lr: 0.0200\n",
            "Epoch 60/150\n",
            "8/8 [==============================] - 3s 382ms/step - loss: 0.0164 - acc: 1.0000 - val_loss: 0.0828 - val_acc: 1.0000 - lr: 0.0200\n",
            "Epoch 60: early stopping\n"
          ]
        },
        {
          "output_type": "display_data",
          "data": {
            "text/plain": [
              "<Figure size 432x288 with 1 Axes>"
            ],
            "image/png": "[encoded data removed]"
          },
          "metadata": {
            "needs_background": "light"
          }
        },
        {
          "output_type": "display_data",
          "data": {
            "text/plain": [
              "<Figure size 432x288 with 1 Axes>"
            ],
            "image/png": "[encoded data removed]"
          },
          "metadata": {
            "needs_background": "light"
          }
        }
      ]
    },
    {
      "cell_type": "code",
      "source": [
        "\n",
        "\n",
        "model= keras.models.load_model('best_model.h5')\n",
        "\n",
        "from sklearn.metrics import f1_score\n",
        "\n",
        "integery_hat=np.argmax(model.predict(X_test), axis=1)\n",
        "integery_test=np.argmax(y_test, axis=1)\n",
        "\n",
        "list1 = list(integery_hat)\n",
        "list2 = list(integery_test)\n",
        "\n",
        "trainloss, train_acc = model.evaluate(X_train_augmented, y_train_augmented)\n",
        "valloss, val_acc = model.evaluate(X_val, y_val)\n",
        "testloss,test_acc = model.evaluate(X_test,y_test)\n",
        "\n",
        "print(\"Train Accuracy\",train_acc)\n",
        "print(\"Val Accuracy\",val_acc)\n",
        "print(\"Test Accuracy\",test_acc)\n",
        "\n",
        "\n",
        "f1score = f1_score(list2, list1)\n",
        "\n",
        "print(\"F1 SCORE\",f1score)\n"
      ],
      "metadata": {
        "colab": {
          "base_uri": "https://localhost:8080/"
        },
        "id": "7dBv63LEWuUF",
        "outputId": "bb27af21-606c-4d96-e51a-790fceb25557"
      },
      "execution_count": 73,
      "outputs": [
        {
          "output_type": "stream",
          "name": "stderr",
          "text": [
            "WARNING:tensorflow:6 out of the last 6 calls to <function Model.make_predict_function.<locals>.predict_function at 0x7fec8a663290> triggered tf.function retracing. Tracing is expensive and the excessive number of tracings could be due to (1) creating @tf.function repeatedly in a loop, (2) passing tensors with different shapes, (3) passing Python objects instead of tensors. For (1), please define your @tf.function outside of the loop. For (2), @tf.function has reduce_retracing=True option that can avoid unnecessary retracing. For (3), please refer to https://www.tensorflow.org/guide/function#controlling_retracing and https://www.tensorflow.org/api_docs/python/tf/function for  more details.\n"
          ]
        },
        {
          "output_type": "stream",
          "name": "stdout",
          "text": [
            "1/1 [==============================] - 1s 881ms/step\n",
            "15/15 [==============================] - 2s 76ms/step - loss: 0.0199 - acc: 1.0000\n",
            "1/1 [==============================] - 0s 80ms/step - loss: 0.0549 - acc: 1.0000\n",
            "1/1 [==============================] - 0s 76ms/step - loss: 0.2108 - acc: 0.9231\n",
            "Train Accuracy 1.0\n",
            "Val Accuracy 1.0\n",
            "Test Accuracy 0.9230769276618958\n",
            "F1 SCORE 0.9473684210526316\n"
          ]
        }
      ]
    },
    {
      "cell_type": "code",
      "source": [
        "from keras.layers import Dense, LSTM, Flatten, TimeDistributed, Conv2D, MaxPooling2D\n",
        "from keras.models import Sequential\n",
        "from keras.callbacks import EarlyStopping\n",
        "from keras.callbacks import ModelCheckpoint\n",
        "from keras.models import load_model\n",
        "from tensorflow.keras import regularizers\n",
        "import tensorflow as tf \n",
        "\n",
        "numberOfHiddenUnits =10 # calisan 8\n",
        "model = Sequential()\n",
        "model.add(Bidirectional(LSTM(numberOfHiddenUnits)))\n",
        "model.add(Dense(2, activation='sigmoid',activity_regularizer=regularizers.L2(0.001),kernel_regularizer=regularizers.L2(0.001)))\n",
        "opt = tf.keras.optimizers.Adam(0.02)\n",
        "#model.compile(loss=\"categorical_crosse#ntropy\", optimizer=optimizer, metrics=['acc'])\n",
        "model.compile(loss=\"binary_crossentropy\", optimizer=opt, metrics=['acc'])\n",
        "\n",
        "\n",
        "mycallbacks = [\n",
        "    keras.callbacks.ModelCheckpoint(\n",
        "        \"best_model.h5\", save_best_only=True, monitor=\"val_loss\"\n",
        "    ),\n",
        "    keras.callbacks.ReduceLROnPlateau(\n",
        "        monitor=\"val_loss\", factor=0.1, patience=25, min_lr=0\n",
        "    ),\n",
        "    keras.callbacks.EarlyStopping(monitor=\"val_loss\", patience=25,verbose=1),\n",
        "]\n",
        "\n",
        "\n",
        "\n",
        "#print(model.summary())\n",
        "history= model.fit(X_train, y_train,validation_data=(X_val, y_val),batch_size=64,epochs=150,callbacks =[mycallbacks],verbose=1)\n",
        "#history= model.fit(X_train, y_train,validation_data=(X_val, y_val),batch_size=64,epochs=100,verbose=1)\n",
        "\n",
        "#%%\n",
        "\n",
        "import matplotlib.pyplot as plt\n",
        "\n",
        "myacc = history.history['acc']\n",
        "trainingaccuracy= myacc[-1]\n",
        "accuracy = [x * 100 for x in myacc]\n",
        "\n",
        "plt.figure(2)\n",
        "plt.plot(accuracy)\n",
        "plt.title('Training Accuracy vs Epoch ')\n",
        "plt.ylabel('Accuracy value (%)')\n",
        "plt.xlabel('No. epoch')\n",
        "plt.show()\n",
        "\n",
        "\n",
        "\n",
        "# \"Loss\"\n",
        "plt.plot(history.history['loss'])\n",
        "plt.plot(history.history['val_loss'])\n",
        "plt.title('model loss')\n",
        "plt.ylabel('loss')\n",
        "plt.xlabel('epoch')\n",
        "plt.legend(['train', 'validation'], loc='upper right')\n",
        "plt.show()\n",
        "\n"
      ],
      "metadata": {
        "colab": {
          "base_uri": "https://localhost:8080/",
          "height": 1000
        },
        "id": "SE52lFbzXE0P",
        "outputId": "69aecd69-f742-49a0-ddc7-1a0bde002b02"
      },
      "execution_count": 61,
      "outputs": [
        {
          "output_type": "stream",
          "name": "stdout",
          "text": [
            "Epoch 1/150\n",
            "2/2 [==============================] - 7s 1s/step - loss: 0.7038 - acc: 0.4556 - val_loss: 0.6017 - val_acc: 1.0000 - lr: 0.0200\n",
            "Epoch 2/150\n",
            "2/2 [==============================] - 1s 440ms/step - loss: 0.5823 - acc: 0.8889 - val_loss: 0.4444 - val_acc: 1.0000 - lr: 0.0200\n",
            "Epoch 3/150\n",
            "2/2 [==============================] - 1s 485ms/step - loss: 0.4338 - acc: 0.9222 - val_loss: 0.2358 - val_acc: 1.0000 - lr: 0.0200\n",
            "Epoch 4/150\n",
            "2/2 [==============================] - 1s 830ms/step - loss: 0.2726 - acc: 0.9444 - val_loss: 0.1195 - val_acc: 1.0000 - lr: 0.0200\n",
            "Epoch 5/150\n",
            "2/2 [==============================] - 1s 584ms/step - loss: 0.1771 - acc: 0.9444 - val_loss: 0.0728 - val_acc: 1.0000 - lr: 0.0200\n",
            "Epoch 6/150\n",
            "2/2 [==============================] - 2s 1s/step - loss: 0.1274 - acc: 0.9556 - val_loss: 0.0512 - val_acc: 1.0000 - lr: 0.0200\n",
            "Epoch 7/150\n",
            "2/2 [==============================] - 2s 734ms/step - loss: 0.0987 - acc: 0.9778 - val_loss: 0.0404 - val_acc: 1.0000 - lr: 0.0200\n",
            "Epoch 8/150\n",
            "2/2 [==============================] - 1s 744ms/step - loss: 0.0766 - acc: 1.0000 - val_loss: 0.0348 - val_acc: 1.0000 - lr: 0.0200\n",
            "Epoch 9/150\n",
            "2/2 [==============================] - 1s 943ms/step - loss: 0.0610 - acc: 1.0000 - val_loss: 0.0318 - val_acc: 1.0000 - lr: 0.0200\n",
            "Epoch 10/150\n",
            "2/2 [==============================] - 1s 457ms/step - loss: 0.0497 - acc: 1.0000 - val_loss: 0.0303 - val_acc: 1.0000 - lr: 0.0200\n",
            "Epoch 11/150\n",
            "2/2 [==============================] - 1s 442ms/step - loss: 0.0423 - acc: 1.0000 - val_loss: 0.0299 - val_acc: 1.0000 - lr: 0.0200\n",
            "Epoch 12/150\n",
            "2/2 [==============================] - 1s 444ms/step - loss: 0.0373 - acc: 1.0000 - val_loss: 0.0298 - val_acc: 1.0000 - lr: 0.0200\n",
            "Epoch 13/150\n",
            "2/2 [==============================] - 1s 433ms/step - loss: 0.0337 - acc: 1.0000 - val_loss: 0.0300 - val_acc: 1.0000 - lr: 0.0200\n",
            "Epoch 14/150\n",
            "2/2 [==============================] - 1s 442ms/step - loss: 0.0316 - acc: 1.0000 - val_loss: 0.0304 - val_acc: 1.0000 - lr: 0.0200\n",
            "Epoch 15/150\n",
            "2/2 [==============================] - 1s 504ms/step - loss: 0.0301 - acc: 1.0000 - val_loss: 0.0308 - val_acc: 1.0000 - lr: 0.0200\n",
            "Epoch 16/150\n",
            "2/2 [==============================] - 1s 454ms/step - loss: 0.0287 - acc: 1.0000 - val_loss: 0.0312 - val_acc: 1.0000 - lr: 0.0200\n",
            "Epoch 17/150\n",
            "2/2 [==============================] - 1s 445ms/step - loss: 0.0278 - acc: 1.0000 - val_loss: 0.0316 - val_acc: 1.0000 - lr: 0.0200\n",
            "Epoch 18/150\n",
            "2/2 [==============================] - 1s 430ms/step - loss: 0.0271 - acc: 1.0000 - val_loss: 0.0319 - val_acc: 1.0000 - lr: 0.0200\n",
            "Epoch 19/150\n",
            "2/2 [==============================] - 1s 443ms/step - loss: 0.0265 - acc: 1.0000 - val_loss: 0.0322 - val_acc: 1.0000 - lr: 0.0200\n",
            "Epoch 20/150\n",
            "2/2 [==============================] - 1s 435ms/step - loss: 0.0261 - acc: 1.0000 - val_loss: 0.0324 - val_acc: 1.0000 - lr: 0.0200\n",
            "Epoch 21/150\n",
            "2/2 [==============================] - 1s 575ms/step - loss: 0.0258 - acc: 1.0000 - val_loss: 0.0326 - val_acc: 1.0000 - lr: 0.0200\n",
            "Epoch 22/150\n",
            "2/2 [==============================] - 1s 422ms/step - loss: 0.0255 - acc: 1.0000 - val_loss: 0.0327 - val_acc: 1.0000 - lr: 0.0200\n",
            "Epoch 23/150\n",
            "2/2 [==============================] - 1s 416ms/step - loss: 0.0253 - acc: 1.0000 - val_loss: 0.0328 - val_acc: 1.0000 - lr: 0.0200\n",
            "Epoch 24/150\n",
            "2/2 [==============================] - 1s 427ms/step - loss: 0.0250 - acc: 1.0000 - val_loss: 0.0329 - val_acc: 1.0000 - lr: 0.0200\n",
            "Epoch 25/150\n",
            "2/2 [==============================] - 1s 452ms/step - loss: 0.0249 - acc: 1.0000 - val_loss: 0.0330 - val_acc: 1.0000 - lr: 0.0200\n",
            "Epoch 26/150\n",
            "2/2 [==============================] - 1s 430ms/step - loss: 0.0248 - acc: 1.0000 - val_loss: 0.0331 - val_acc: 1.0000 - lr: 0.0200\n",
            "Epoch 27/150\n",
            "2/2 [==============================] - 1s 461ms/step - loss: 0.0246 - acc: 1.0000 - val_loss: 0.0332 - val_acc: 1.0000 - lr: 0.0200\n",
            "Epoch 28/150\n",
            "2/2 [==============================] - 1s 437ms/step - loss: 0.0245 - acc: 1.0000 - val_loss: 0.0333 - val_acc: 1.0000 - lr: 0.0200\n",
            "Epoch 29/150\n",
            "2/2 [==============================] - 1s 532ms/step - loss: 0.0243 - acc: 1.0000 - val_loss: 0.0333 - val_acc: 1.0000 - lr: 0.0200\n",
            "Epoch 30/150\n",
            "2/2 [==============================] - 1s 431ms/step - loss: 0.0242 - acc: 1.0000 - val_loss: 0.0334 - val_acc: 1.0000 - lr: 0.0200\n",
            "Epoch 31/150\n",
            "2/2 [==============================] - 1s 449ms/step - loss: 0.0241 - acc: 1.0000 - val_loss: 0.0335 - val_acc: 1.0000 - lr: 0.0200\n",
            "Epoch 32/150\n",
            "2/2 [==============================] - 1s 437ms/step - loss: 0.0241 - acc: 1.0000 - val_loss: 0.0336 - val_acc: 1.0000 - lr: 0.0200\n",
            "Epoch 33/150\n",
            "2/2 [==============================] - 1s 435ms/step - loss: 0.0240 - acc: 1.0000 - val_loss: 0.0337 - val_acc: 1.0000 - lr: 0.0200\n",
            "Epoch 34/150\n",
            "2/2 [==============================] - 1s 432ms/step - loss: 0.0239 - acc: 1.0000 - val_loss: 0.0338 - val_acc: 1.0000 - lr: 0.0200\n",
            "Epoch 35/150\n",
            "2/2 [==============================] - 1s 434ms/step - loss: 0.0238 - acc: 1.0000 - val_loss: 0.0339 - val_acc: 1.0000 - lr: 0.0200\n",
            "Epoch 36/150\n",
            "2/2 [==============================] - 1s 456ms/step - loss: 0.0237 - acc: 1.0000 - val_loss: 0.0340 - val_acc: 1.0000 - lr: 0.0200\n",
            "Epoch 37/150\n",
            "2/2 [==============================] - 1s 485ms/step - loss: 0.0236 - acc: 1.0000 - val_loss: 0.0340 - val_acc: 1.0000 - lr: 0.0020\n",
            "Epoch 37: early stopping\n"
          ]
        },
        {
          "output_type": "display_data",
          "data": {
            "text/plain": [
              "<Figure size 432x288 with 1 Axes>"
            ],
            "image/png": "[encoded data removed]"
          },
          "metadata": {
            "needs_background": "light"
          }
        },
        {
          "output_type": "display_data",
          "data": {
            "text/plain": [
              "<Figure size 432x288 with 1 Axes>"
            ],
            "image/png": "[encoded data removed]"
          },
          "metadata": {
            "needs_background": "light"
          }
        }
      ]
    },
    {
      "cell_type": "code",
      "source": [
        "model= keras.models.load_model('best_model.h5')\n",
        "\n",
        "from sklearn.metrics import f1_score\n",
        "\n",
        "integery_hat=np.argmax(model.predict(X_test), axis=1)\n",
        "integery_test=np.argmax(y_test, axis=1)\n",
        "\n",
        "list1 = list(integery_hat)\n",
        "list2 = list(integery_test)\n",
        "\n",
        "trainloss, train_acc = model.evaluate(X_train, y_train)\n",
        "valloss, val_acc = model.evaluate(X_val, y_val)\n",
        "testloss,test_acc = model.evaluate(X_test,y_test)\n",
        "\n",
        "print(\"Train Accuracy\",train_acc)\n",
        "print(\"Val Accuracy\",val_acc)\n",
        "print(\"Test Accuracy\",test_acc)\n",
        "\n",
        "\n",
        "f1score = f1_score(list2, list1)\n",
        "\n",
        "print(\"F1 SCORE\",f1score)"
      ],
      "metadata": {
        "colab": {
          "base_uri": "https://localhost:8080/"
        },
        "id": "5zPi2EfYYzA_",
        "outputId": "35b439c1-d397-4114-8c86-afa8beffb5be"
      },
      "execution_count": 62,
      "outputs": [
        {
          "output_type": "stream",
          "name": "stdout",
          "text": [
            "1/1 [==============================] - 1s 914ms/step\n",
            "15/15 [==============================] - 2s 76ms/step - loss: 0.0345 - acc: 1.0000\n",
            "1/1 [==============================] - 0s 87ms/step - loss: 0.0298 - acc: 1.0000\n",
            "1/1 [==============================] - 0s 76ms/step - loss: 0.2178 - acc: 0.9231\n",
            "Train Accuracy 1.0\n",
            "Val Accuracy 1.0\n",
            "Test Accuracy 0.9230769276618958\n",
            "F1 SCORE 0.888888888888889\n"
          ]
        }
      ]
    },
    {
      "cell_type": "code",
      "source": [
        "\n",
        "import matplotlib.pyplot as plt \n",
        "    \n",
        "# x axis values \n",
        "x = list(np.arange(1,25+1))\n",
        "\n",
        "# corresponding y axis values  \n",
        "y=X_train[1,0:25,1]\n",
        "# plotting the points  \n",
        "\n",
        "fig, ax = plt.subplots()\n",
        "\n",
        "\n",
        "ax.plot(x, y,label = 'original signal') \n",
        "\n",
        "mu=0\n",
        "sigma= 0.1\n",
        "noise = np.random.normal(mu, sigma, y.shape)\n",
        "y2= y+noise\n",
        "    \n",
        "# naming the x axis \n",
        "plt.xlabel('x - axis') \n",
        "# naming the y axis \n",
        "plt.ylabel('y - axis') \n",
        "    \n",
        "# giving a title to my graph \n",
        "plt.title('My first graph!') \n",
        "    \n",
        "# function to show the plot \n",
        "\n",
        "\n",
        "\n",
        "\n",
        "ax.plot(x, y2,label ='noisy signal') \n",
        "# naming the x axis \n",
        "plt.xlabel('x - axis') \n",
        "# naming the y axis \n",
        "plt.ylabel('y - axis') \n",
        "    \n",
        "# giving a title to my graph \n",
        "plt.title('Adding noise to time series data')\n",
        "\n",
        "ax.legend(['Original Signal', 'Noisy Signal'])\n",
        "\n",
        "# function to show the plot \n",
        "plt.show() "
      ],
      "metadata": {
        "id": "Cv-APQNbUJ6E"
      },
      "execution_count": null,
      "outputs": []
    },
    {
      "cell_type": "code",
      "source": [],
      "metadata": {
        "id": "V23gk2HQQ00-"
      },
      "execution_count": null,
      "outputs": []
    }
  ]
}