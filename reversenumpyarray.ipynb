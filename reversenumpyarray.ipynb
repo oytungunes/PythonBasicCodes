{
  "nbformat": 4,
  "nbformat_minor": 0,
  "metadata": {
    "colab": {
      "name": "reversenumpyarray.ipynb",
      "provenance": [],
      "collapsed_sections": [],
      "mount_file_id": "1fOPYAxH6OM9w6yZvk1q9sQpE8IkC2Cvw",
      "authorship_tag": "ABX9TyObVi0BItsAwbpnt0npNeoo",
      "include_colab_link": true
    },
    "kernelspec": {
      "name": "python3",
      "display_name": "Python 3"
    },
    "language_info": {
      "name": "python"
    }
  },
  "cells": [
    {
      "cell_type": "markdown",
      "metadata": {
        "id": "view-in-github",
        "colab_type": "text"
      },
      "source": [
        "<a href=\"https://colab.research.google.com/github/oytungunes/PythonBasicCodes/blob/main/reversenumpyarray.ipynb\" target=\"_parent\"><img src=\"https://colab.research.google.com/assets/colab-badge.svg\" alt=\"Open In Colab\"/></a>"
      ]
    },
    {
      "cell_type": "markdown",
      "metadata": {
        "id": "Nekeg7vMIy2e"
      },
      "source": [
        "You are given a space separated list of numbers.\n",
        "Your task is to print a reversed NumPy array with the element type float.\n",
        "\n",
        "example\n",
        "\n",
        "sample input:\n",
        "1 2 3 4 -8 -10\n",
        "\n",
        "sample output:\n",
        "[-10.  -8.   4.   3.   2.   1.]\n",
        "\n"
      ]
    },
    {
      "cell_type": "code",
      "metadata": {
        "colab": {
          "base_uri": "https://localhost:8080/"
        },
        "id": "XtoTBJyUJaSt",
        "outputId": "73d9bfe7-21d5-4717-bba4-9fef59ce179d"
      },
      "source": [
        "import numpy \n",
        "\n",
        "\n",
        "def arrays(arr):\n",
        "    # complete this function\n",
        "    # use numpy.array\n",
        "    arr2 = numpy.array(arr,float)\n",
        "    arr3 = numpy.flip(arr2)\n",
        "    return arr3\n",
        "\n",
        "a = numpy.array([1,2,3,4,5])\n",
        "print(a)\n",
        "b = arrays(a)\n",
        "print(b)\n",
        "\n"
      ],
      "execution_count": 7,
      "outputs": [
        {
          "output_type": "stream",
          "name": "stdout",
          "text": [
            "[1 2 3 4 5]\n",
            "[5. 4. 3. 2. 1.]\n"
          ]
        }
      ]
    }
  ]
}