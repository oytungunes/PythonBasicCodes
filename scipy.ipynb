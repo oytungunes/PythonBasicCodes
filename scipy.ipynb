{
  "nbformat": 4,
  "nbformat_minor": 0,
  "metadata": {
    "colab": {
      "name": "scipy.ipynb",
      "provenance": [],
      "authorship_tag": "ABX9TyOM5B2QQPEJQbW+aWUv4uJ9",
      "include_colab_link": true
    },
    "kernelspec": {
      "name": "python3",
      "display_name": "Python 3"
    },
    "language_info": {
      "name": "python"
    }
  },
  "cells": [
    {
      "cell_type": "markdown",
      "metadata": {
        "id": "view-in-github",
        "colab_type": "text"
      },
      "source": [
        "<a href=\"https://colab.research.google.com/github/oytungunes/PythonCodeExamples/blob/main/scipy.ipynb\" target=\"_parent\"><img src=\"https://colab.research.google.com/assets/colab-badge.svg\" alt=\"Open In Colab\"/></a>"
      ]
    },
    {
      "cell_type": "markdown",
      "metadata": {
        "id": "FI--Y0gfMx30"
      },
      "source": [
        "SCIPY EXAMPLE 1:\n",
        "\n",
        "Calculating determinant of a two-dimensional matrix,\n",
        "\n"
      ]
    },
    {
      "cell_type": "code",
      "metadata": {
        "colab": {
          "base_uri": "https://localhost:8080/"
        },
        "id": "NJ0WFL7rMzqr",
        "outputId": "b386ef5a-0f8c-449f-f68c-9f1088c6fd68"
      },
      "source": [
        "from scipy import linalg\n",
        "import numpy as np\n",
        "#define square matrix\n",
        "two_d_array = np.array([ [4,5], [3,2] ])\n",
        "#pass values to det() function\n",
        "linalg.det( two_d_array )"
      ],
      "execution_count": 4,
      "outputs": [
        {
          "output_type": "execute_result",
          "data": {
            "text/plain": [
              "-7.0"
            ]
          },
          "metadata": {},
          "execution_count": 4
        }
      ]
    },
    {
      "cell_type": "markdown",
      "metadata": {
        "id": "8D0x9rE6NFc8"
      },
      "source": [
        "SCIPY EXAMPLE 2:\n",
        "\n",
        "Inverse Matrix –\n",
        "\n"
      ]
    },
    {
      "cell_type": "code",
      "metadata": {
        "colab": {
          "base_uri": "https://localhost:8080/"
        },
        "id": "zH5aJF0ONV_I",
        "outputId": "838c8b5c-b161-49d6-a308-acb7ccfcdb27"
      },
      "source": [
        "linalg.inv(two_d_array)\n"
      ],
      "execution_count": 6,
      "outputs": [
        {
          "output_type": "execute_result",
          "data": {
            "text/plain": [
              "array([[-0.28571429,  0.71428571],\n",
              "       [ 0.42857143, -0.57142857]])"
            ]
          },
          "metadata": {},
          "execution_count": 6
        }
      ]
    },
    {
      "cell_type": "markdown",
      "metadata": {
        "id": "VnSyR8BvNBJ_"
      },
      "source": [
        "SCIPY EXAMPLE 3:\n",
        "\n",
        "Thhe most common problem in linear algebra is eigenvalues and eigenvector which can be easily solved using eig() function.\n",
        "Now lets we find the Eigenvalue of (X) and correspond eigenvector of a two-dimensional square matrix.\n",
        "\n",
        "\n",
        "\n"
      ]
    },
    {
      "cell_type": "code",
      "metadata": {
        "colab": {
          "base_uri": "https://localhost:8080/"
        },
        "id": "ek4LEBZ6Nmq-",
        "outputId": "33abaaaa-ccd6-455c-c382-1bfe7bada9ce"
      },
      "source": [
        "from scipy import linalg\n",
        "import numpy as np\n",
        "#define two dimensional array\n",
        "arr = np.array([[5,4],[6,3]])\n",
        "#pass value into function\n",
        "eg_val, eg_vect = linalg.eig(arr)\n",
        "#get eigenvalues\n",
        "print(eg_val)\n",
        "#get eigenvectors\n",
        "print(eg_vect)"
      ],
      "execution_count": 7,
      "outputs": [
        {
          "output_type": "stream",
          "name": "stdout",
          "text": [
            "[ 9.+0.j -1.+0.j]\n",
            "[[ 0.70710678 -0.5547002 ]\n",
            " [ 0.70710678  0.83205029]]\n"
          ]
        }
      ]
    },
    {
      "cell_type": "code",
      "metadata": {
        "id": "FokXlKISNtgq"
      },
      "source": [
        ""
      ],
      "execution_count": null,
      "outputs": []
    }
  ]
}