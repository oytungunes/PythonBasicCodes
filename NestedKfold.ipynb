{
  "nbformat": 4,
  "nbformat_minor": 0,
  "metadata": {
    "colab": {
      "provenance": [],
      "authorship_tag": "ABX9TyNuS8vgb2HBVDofTVEjTnJA",
      "include_colab_link": true
    },
    "kernelspec": {
      "name": "python3",
      "display_name": "Python 3"
    },
    "language_info": {
      "name": "python"
    }
  },
  "cells": [
    {
      "cell_type": "markdown",
      "metadata": {
        "id": "view-in-github",
        "colab_type": "text"
      },
      "source": [
        "<a href=\"https://colab.research.google.com/github/oytungunes/PythonCodeExamples/blob/main/NestedKfold.ipynb\" target=\"_parent\"><img src=\"https://colab.research.google.com/assets/colab-badge.svg\" alt=\"Open In Colab\"/></a>"
      ]
    },
    {
      "cell_type": "code",
      "execution_count": 4,
      "metadata": {
        "colab": {
          "base_uri": "https://localhost:8080/"
        },
        "id": "purh6oMuihYq",
        "outputId": "d98afd62-3ff0-4d29-94c2-5e7de257ab77"
      },
      "outputs": [
        {
          "output_type": "stream",
          "name": "stdout",
          "text": [
            "[[3]\n",
            " [4]\n",
            " [5]\n",
            " [6]\n",
            " [7]\n",
            " [8]]\n",
            "[[ 1]\n",
            " [10]]\n",
            "[[2]\n",
            " [9]]\n",
            "[[ 1]\n",
            " [ 4]\n",
            " [ 5]\n",
            " [ 6]\n",
            " [ 8]\n",
            " [10]]\n",
            "[[2]\n",
            " [9]]\n",
            "[[3]\n",
            " [7]]\n",
            "[[ 3]\n",
            " [ 4]\n",
            " [ 5]\n",
            " [ 6]\n",
            " [ 9]\n",
            " [10]]\n",
            "[[2]\n",
            " [7]]\n",
            "[[1]\n",
            " [8]]\n",
            "[[ 2]\n",
            " [ 3]\n",
            " [ 4]\n",
            " [ 7]\n",
            " [ 8]\n",
            " [10]]\n",
            "[[1]\n",
            " [9]]\n",
            "[[5]\n",
            " [6]]\n",
            "[[1]\n",
            " [2]\n",
            " [5]\n",
            " [7]\n",
            " [8]\n",
            " [9]]\n",
            "[[3]\n",
            " [6]]\n",
            "[[ 4]\n",
            " [10]]\n"
          ]
        }
      ],
      "source": [
        "from sklearn.model_selection import KFold, StratifiedKFold\n",
        "\n",
        "import numpy as np\n",
        "numoffold=5\n",
        "\n",
        "X = np.array([[1], [2], [3], [4],[5],[6],[7],[8],[9],[10]])\n",
        "Y = np.array([0, 0, 0, 0, 0, 1,1,1,1, 1])\n",
        "\n",
        "\n",
        "skf = StratifiedKFold(n_splits=numoffold,shuffle=True, random_state = None)\n",
        "skf.get_n_splits(X, Y)\n",
        "\n",
        "\n",
        "\n",
        "\n",
        "dim1,dim2 = X.shape\n",
        "valsize=valsize=round(dim1/numoffold)\n",
        "\n",
        "foldnumber=0\n",
        "\n",
        "for all_index, test_index in skf.split(X, Y):  \n",
        "  X_train, X_test = X[all_index], X[test_index]\n",
        "  y_train, y_test = Y[all_index], Y[test_index]# -*- coding: utf-8 -*-\n",
        "\n",
        "  skf2 = StratifiedKFold(n_splits=(numoffold-1),shuffle=True, random_state = None)\n",
        "  skf2.get_n_splits(X_train, y_train)\n",
        "  for train_index, val_index in skf2.split(X_train, y_train):  \n",
        "    X_train2, X_val =   X_train[train_index], X_train[val_index]\n",
        "    y_train2, y_val =  y_train[train_index], y_train[val_index]# -*- coding: utf-8 -*-\n",
        "    break\n",
        "\n",
        "  print(X_train2)\n",
        "  print(X_val)\n",
        "  print(X_test)"
      ]
    }
  ]
}